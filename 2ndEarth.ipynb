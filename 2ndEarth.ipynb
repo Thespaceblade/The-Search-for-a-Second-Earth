{
 "cells": [
  {
   "cell_type": "code",
   "execution_count": null,
   "id": "4b4203ec",
   "metadata": {},
   "outputs": [],
   "source": [
    "Hello"
   ]
  }
 ],
 "metadata": {
  "language_info": {
   "name": "python"
  }
 },
 "nbformat": 4,
 "nbformat_minor": 5
}

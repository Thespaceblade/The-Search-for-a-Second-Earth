{
 "cells": [
  {
   "cell_type": "code",
   "execution_count": 1,
   "id": "fa20008a",
   "metadata": {},
   "outputs": [],
   "source": [
    "import pandas as pd\n",
    "import numpy as np\n",
    "import seaborn as sns\n",
    "import matplotlib.pyplot as plt"
   ]
  },
  {
   "cell_type": "code",
   "execution_count": 2,
   "id": "28aec052",
   "metadata": {},
   "outputs": [],
   "source": [
    "# Read Data\n",
    "df = pd.read_csv('rawdata.csv')\n",
    "\n",
    "# Clean Data\n",
    "df_cleaned = df.drop_duplicates()\n",
    "df_cleaned = df.dropna()\n",
    "df_cleaned = df_cleaned.filter(['pl_name', 'hostname', 'default_flag', 'sy_snum', 'sy_pnum',\n",
    "       'pl_controv_flag', 'pl_orbper', 'pl_orbsmax', 'pl_rade', 'pl_radj', 'pl_bmasse', 'pl_bmassj', 'pl_orbeccen', 'pl_insol', 'pl_eqt', 'st_teff', 'st_rad',\n",
    "       'st_mass', 'st_met', 'st_metratio', 'st_logg', 'sy_dist'])"
   ]
  },
  {
   "cell_type": "code",
   "execution_count": 3,
   "id": "4c97f8e3",
   "metadata": {},
   "outputs": [],
   "source": [
    "# Calculate Density\n",
    "EARTH_MASS_KG = 5.972e24\n",
    "EARTH_RADIUS_M = 6.371e6  # meters\n",
    "\n",
    "\n",
    "df_cleaned[\"density_kg_m3\"] = (\n",
    "    df_cleaned[\"pl_bmasse\"] * EARTH_MASS_KG\n",
    "    / ((4/3) * np.pi * (df_cleaned[\"pl_rade\"] * EARTH_RADIUS_M) ** 3)\n",
    ")\n",
    "\n",
    "\n",
    "# If you want g/cm³:\n",
    "df_cleaned[\"density_g_cm3\"] = df_cleaned[\"density_kg_m3\"] / 1000\n",
    "\n",
    "# Calculate Inner Boundary\n",
    "df_cleaned[\"planet_type\"] = np.where(\n",
    "    df_cleaned[\"density_g_cm3\"] >= 3,\n",
    "    \"Terrestrial\",\n",
    "    \"Gaseous\"\n",
    ")\n"
   ]
  },
  {
   "cell_type": "code",
   "execution_count": 4,
   "id": "3007564f",
   "metadata": {},
   "outputs": [],
   "source": [
    "import plotly.express as px\n",
    "\n",
    "\n",
    "fig = px.histogram(\n",
    "    df_cleaned,\n",
    "    x=\"density_g_cm3\",       # numeric column on x-axis\n",
    "    color=\"planet_type\",     # hue by category\n",
    "    nbins=30,\n",
    "    barmode=\"overlay\",\n",
    "    title=\"Interactive Planet Density Distribution\"\n",
    ")\n",
    "fig.update_layout(\n",
    "    xaxis_title=\"Density (g/cm³)\",\n",
    "    yaxis_title=\"Number of Planets\",\n",
    "    bargap=0.05\n",
    ")\n",
    "fig.show(renderer=\"browser\")"
   ]
  },
  {
   "cell_type": "code",
   "execution_count": 5,
   "id": "4efa9bf0",
   "metadata": {},
   "outputs": [
    {
     "data": {
      "text/plain": [
       "<Axes: xlabel='density_g_cm3', ylabel='Count'>"
      ]
     },
     "execution_count": 5,
     "metadata": {},
     "output_type": "execute_result"
    },
    {
     "data": {
      "image/png": "[encoded data removed]",
      "text/plain": [
       "<Figure size 640x480 with 1 Axes>"
      ]
     },
     "metadata": {},
     "output_type": "display_data"
    }
   ],
   "source": [
    "df_cleaned.head()\n",
    "\n",
    "sns.histplot(data=df_cleaned,x=\"density_g_cm3\",hue=\"planet_type\")"
   ]
  },
  {
   "cell_type": "code",
   "execution_count": 10,
   "id": "fbb007a8",
   "metadata": {},
   "outputs": [],
   "source": [
    "import plotly.graph_objects as go\n",
    "\n",
    "\n",
    "# 1) Choose stats (numeric columns you want to compare)\n",
    "stats_cols = [\"pl_rade\", \"pl_bmasse\", \"pl_insol\", \"pl_eqt\", \"st_teff\", \"pl_orbeccen\"]\n",
    "\n",
    "\n",
    "# 2) Make a normalized copy (0–100 scale). Invert any columns where \"lower is better\".\n",
    "def minmax_0_100(s):\n",
    "    s = s.astype(float)\n",
    "    mn, mx = s.min(), s.max()\n",
    "    return (100 * (s - mn) / (mx - mn)) if mx > mn else pd.Series(50, index=s.index)\n",
    "\n",
    "\n",
    "df_norm = df_cleaned.copy()\n",
    "for c in stats_cols:\n",
    "    df_norm[c] = minmax_0_100(df_cleaned[c])\n",
    "\n",
    "\n",
    "# Example: invert eccentricity so circular (low e) appears \"better\" (higher on the chart)\n"
   ]
  },
  {
   "cell_type": "code",
   "execution_count": 7,
   "id": "19832ff0",
   "metadata": {},
   "outputs": [],
   "source": [
    "def scale_value_to_0_100(df_col: pd.Series, value: float) -> float:\n",
    "    mn, mx = float(df_col.min()), float(df_col.max())\n",
    "    if mx > mn:\n",
    "        return 100 * (value - mn) / (mx - mn)\n",
    "    return 50.0\n",
    "\n",
    "\n",
    "# --- normalize your dataframe (0..100) ---\n",
    "df_norm = df_cleaned.copy()\n",
    "for c in stats_cols:\n",
    "    df_norm[c] = minmax_0_100(df_cleaned[c])\n",
    "\n",
    "\n",
    "# --- columns where \"lower is better\" -> invert after scaling ---\n",
    "invert_cols = {\"pl_orbeccen\"}  # ecc: more circular (lower) should score higher\n",
    "for c in stats_cols:\n",
    "    if c in invert_cols:\n",
    "        df_norm[c] = 100 - df_norm[c]\n",
    "\n",
    "\n",
    "\n",
    "# --- Earth \"true\" values in catalog units ---\n",
    "earth_true = {\n",
    "    \"pl_rade\"    : 1.0,       # Earth radii\n",
    "    \"pl_bmasse\"  : 1.0,       # Earth masses\n",
    "    \"pl_insol\"   : 1.0,       # Earth = 1\n",
    "    \"pl_eqt\"     : 255.0,     # K (equilibrium temp, not 288 K surface)\n",
    "    \"st_teff\"    : 5772.0,    # K (Sun)\n",
    "    \"pl_orbeccen\": 0.0167     # Earth's orbital eccentricity\n",
    "}\n",
    "\n",
    "\n",
    "# --- scale Earth using the SAME min/max as your dataset, then invert where needed ---\n",
    "earth_scaled = {}\n",
    "for c in stats_cols:\n",
    "    val0_100 = scale_value_to_0_100(df_cleaned[c], earth_true[c])\n",
    "    if c in invert_cols:\n",
    "        val0_100 = 100 - val0_100\n",
    "    earth_scaled[c] = val0_100\n",
    "earth_row = pd.Series(earth_scaled)\n"
   ]
  },
  {
   "cell_type": "code",
   "execution_count": 9,
   "id": "b7ef30f9",
   "metadata": {},
   "outputs": [],
   "source": [
    "tats_cols = [\"pl_rade\", \"pl_bmasse\", \"pl_insol\", \"pl_eqt\", \"st_teff\", \"pl_orbeccen\"]\n",
    "\n",
    "\n",
    "# --- helpers: min-max to 0..100 and single-value scaler using the df range ---\n",
    "def minmax_0_100(s: pd.Series) -> pd.Series:\n",
    "    s = s.astype(float)\n",
    "    mn, mx = s.min(), s.max()\n",
    "    return (100 * (s - mn) / (mx - mn)) if mx > mn else pd.Series(50, index=s.index)\n",
    "\n",
    "\n",
    "def scale_value_to_0_100(df_col: pd.Series, value: float) -> float:\n",
    "    mn, mx = float(df_col.min()), float(df_col.max())\n",
    "    if mx > mn:\n",
    "        return 100 * (value - mn) / (mx - mn)\n",
    "    return 50.0\n",
    "\n",
    "\n",
    "# --- normalize your dataframe (0..100) ---\n",
    "df_norm = df_cleaned.copy()\n",
    "for c in stats_cols:\n",
    "    df_norm[c] = minmax_0_100(df_cleaned[c])\n",
    "\n",
    "\n",
    "# --- columns where \"lower is better\" -> invert after scaling ---\n",
    "invert_cols = {\"pl_orbeccen\"}  # ecc: more circular (lower) should score higher\n",
    "for c in stats_cols:\n",
    "    if c in invert_cols:\n",
    "        df_norm[c] = 100 - df_norm[c]\n",
    "\n",
    "\n",
    "\n",
    "# --- Earth \"true\" values in catalog units ---\n",
    "earth_true = {\n",
    "    \"pl_rade\"    : 1.0,       # Earth radii\n",
    "    \"pl_bmasse\"  : 1.0,       # Earth masses\n",
    "    \"pl_insol\"   : 1.0,       # Earth = 1\n",
    "    \"pl_eqt\"     : 255.0,     # K (equilibrium temp, not 288 K surface)\n",
    "    \"st_teff\"    : 5772.0,    # K (Sun)\n",
    "    \"pl_orbeccen\": 0.0167     # Earth's orbital eccentricity\n",
    "}\n",
    "\n",
    "\n",
    "# --- scale Earth using the SAME min/max as your dataset, then invert where needed ---\n",
    "earth_scaled = {}\n",
    "for c in stats_cols:\n",
    "    val0_100 = scale_value_to_0_100(df_cleaned[c], earth_true[c])\n",
    "    if c in invert_cols:\n",
    "        val0_100 = 100 - val0_100\n",
    "    earth_scaled[c] = val0_100\n",
    "earth_row = pd.Series(earth_scaled)\n",
    "\n",
    "\n"
   ]
  }
 ],
 "metadata": {
  "kernelspec": {
   "display_name": "Python 3",
   "language": "python",
   "name": "python3"
  },
  "language_info": {
   "codemirror_mode": {
    "name": "ipython",
    "version": 3
   },
   "file_extension": ".py",
   "mimetype": "text/x-python",
   "name": "python",
   "nbconvert_exporter": "python",
   "pygments_lexer": "ipython3",
   "version": "3.13.7"
  }
 },
 "nbformat": 4,
 "nbformat_minor": 5
}

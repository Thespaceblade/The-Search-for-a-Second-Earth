{
 "cells": [
  {
   "cell_type": "code",
   "execution_count": 135,
   "id": "fa20008a",
   "metadata": {},
   "outputs": [],
   "source": [
    "import pandas as pd\n",
    "import numpy as np\n",
    "import seaborn as sns\n",
    "import matplotlib.pyplot as plt"
   ]
  },
  {
   "cell_type": "code",
   "execution_count": 136,
   "id": "28aec052",
   "metadata": {},
   "outputs": [],
   "source": [
    "# Read Data\n",
    "df = pd.read_csv('rawdata.csv')\n",
    "\n",
    "# Clean Data\n",
    "df_cleaned = df.drop_duplicates()\n",
    "df_cleaned = df.dropna()\n",
    "df_cleaned = df_cleaned.filter(['pl_name', 'hostname', 'default_flag', 'sy_snum', 'sy_pnum',\n",
    "       'pl_controv_flag', 'pl_orbper', 'pl_orbsmax', 'pl_rade', 'pl_radj', 'pl_bmasse', 'pl_bmassj', 'pl_orbeccen', 'pl_insol', 'pl_eqt', 'st_teff', 'st_rad',\n",
    "       'st_mass', 'st_met', 'st_metratio', 'st_logg', 'sy_dist'])"
   ]
  },
  {
   "cell_type": "code",
   "execution_count": 138,
   "id": "4c97f8e3",
   "metadata": {},
   "outputs": [],
   "source": [
    "# Calculate Density\n",
    "#OpenAI. (2025). ChatGPT (Sept 20 version) [Large language model].\n",
    "#Retrieved from https://chat.openai.com/\n",
    "EARTH_MASS_KG = 5.972e24\n",
    "EARTH_RADIUS_M = 6.371e6  # meters\n",
    "\n",
    "\n",
    "df_cleaned[\"density_kg_m3\"] = (\n",
    "    df_cleaned[\"pl_bmasse\"] * EARTH_MASS_KG\n",
    "    / ((4/3) * np.pi * (df_cleaned[\"pl_rade\"] * EARTH_RADIUS_M) ** 3)\n",
    ")\n",
    "\n",
    "\n",
    "# If you want g/cm³:\n",
    "df_cleaned[\"density_g_cm3\"] = df_cleaned[\"density_kg_m3\"] / 1000\n",
    "\n",
    "# Calculate Inner Boundary\n",
    "df_cleaned[\"planet_type\"] = np.where(\n",
    "    df_cleaned[\"density_g_cm3\"] >= 3,\n",
    "    \"Terrestrial\",\n",
    "    \"Gaseous\"\n",
    ")\n"
   ]
  },
  {
   "cell_type": "code",
   "execution_count": 139,
   "id": "3007564f",
   "metadata": {},
   "outputs": [
    {
     "data": {
      "application/vnd.plotly.v1+json": {
       "config": {
        "plotlyServerURL": "https://plot.ly"
       },
       "data": [
        {
         "bingroup": "x",
         "hovertemplate": "planet_type=Gaseous<br>density_g_cm3=%{x}<br>count=%{y}<extra></extra>",
         "legendgroup": "Gaseous",
         "marker": {
          "color": "#636efa",
          "opacity": 0.5,
          "pattern": {
           "shape": ""
          }
         },
         "name": "Gaseous",
         "nbinsx": 30,
         "orientation": "v",
         "showlegend": true,
         "type": "histogram",
         "x": {
          "bdata": "OT3FgHYw/D9d56Z87y36P/XP4RI5Xe0/5QgFbb0rAkC658rtLf3ePw4jtVJGWuk/kb2jU0Dnuz+Hy04xEKzuP89b8LK7ENY/cLDyDpb+AEAlgcqIkHrmP6HtcwJSSwdArpEEudhp/T+Nh/vDyjsCQDadyTkCmd4/LUA1diY/9j+NEVLgLqP1P6C6OCE8Y+I/rki8fJP11T97qkL9up4HQOKWZksAAAdAd7WtRucaB0D2eARuS9DdP4Cpr626ZAdApQ1SUg23BED/1KuEacwBQF7K6Ivf5u4//fvMyob84T8A98j8j2DYP4TLZLOR0Ns/yPwx7Cg2/z8xuJb7jVD+P74q12JaU+Y/kqmLJ7vb8j+dT1uktXLtPxsZcFUchPE/GM9hciCO9z+5V+31g8sAQM5bk7IrnAVAg2j2jzaTA0C6C4gov5fsP7YmWck/kAdAnkz5u8rf4j/7/8ofxywBQOXAPnWCrOc/G/CXVgJb/j+fF2Zw+tgCQH1VLSdLUOg//fdnoKzpyD96pMoYuO/7P9Qk7Xg5rwRAYHNgKfjY+z/8lUtb19gHQHSTZoWwmuQ/rhlsbxW28j85GACe08byP8g641Oe0QJAxNK/0hLE5z86j8Ftv1fyP27/whujM+g/Zj8i+0NH4T/BJ1BdNH7rP7vflS1vueo/xtAhbVfd9T8sAXaUG2b2PwzX0GINsARAXMcIb9s74z8qztDw4ncDQI7kKCHrhOg/AUGGCfZG1z9eUAeCN97pP2Ie6Epi2+0/2R6144/A4D94Q9Y710TRP/AtkK35HOI/0ppsB5rxyj/kFgI2AEMCQAlYvOAcGv0/Yy8gkKmYAkCbwqhr5YvpP7zI/2Vlmew/7TcIyBsN6z+fHgHX9WrRP91VIsk3bOM/t2lnLa+g5T+SQLiZT50BQCg4TJbmLuE/6NzTrxOE7D8bcwD2umMBQP9x+PZOJPA/MsRb51jOAUB2O/wbaTD7P3zBeOrXbQBApYDi3qX35T84e0GnGMT9Px1lyM95Ouc/74AW4WzZ+j9IPpgdYzLpP64ktSufGOo/+hXWGtKU+T/Gp5IlnFHlP89WtdJxS/M/rwny0/hx+z/xMsCuKwXkP3vTG5tYdeo/p3a/aXVKAkC/ysSsT+/jP1OD4/TvZgRAT3WNUGhn1T9OOrG3sy7hP0IAPT/4ieA/JvzFJBcCBkBSec9hQmfWP0+nCuBVTOc/0N//Abs34D8pazfEcDisP3RvHjSEE8c/Usd0b3HV8T9Ojw7eJtDVPw==",
          "dtype": "f8"
         },
         "xaxis": "x",
         "yaxis": "y"
        },
        {
         "bingroup": "x",
         "hovertemplate": "planet_type=Terrestrial<br>density_g_cm3=%{x}<br>count=%{y}<extra></extra>",
         "legendgroup": "Terrestrial",
         "marker": {
          "color": "#EF553B",
          "opacity": 0.5,
          "pattern": {
           "shape": ""
          }
         },
         "name": "Terrestrial",
         "nbinsx": 30,
         "orientation": "v",
         "showlegend": true,
         "type": "histogram",
         "x": {
          "bdata": "zoXdGx8GGkADLBzZ/fIXQAqGDefKbyRAmXYfSMqFHEDjnncJLmQMQA9VqdgxTR9AAe6acF4SDECzUsnBCZIcQO+ueKO5TBRAeYZUVR/fG0D8RMhXqFw1QAXEHmhm7xZAAtoK2ijAHEByu7iwcQIdQBJ+fmycwBhAFFgQaizqEkA60s1KjZ0OQLsoaF2fVg9AG4zYOiNjGEB2U91NwswPQEgcjgzobAxAAiU4MsG2CEClT+zltqgWQB7NyXUdNxFA3q3htZ6LCkAoC8G1fkISQEdITbq4/w5A1Wl2Z2OzHUD0A0cPLB4JQN1wbCfS2g1AbdbjyhMKJkBoqcR43nsOQGDE+m6WDQlAXGx/eJZUD0B3h9ZZGJoLQLtUg+7Ydg1A5Hn9lvLmCkDDRuiKlFETQJSLH4F3FxFA+mbkbGz2E0AwQjHCTg0WQC5tDAAzQB5AHN3d8cr2CEC3UzeD1kwRQEVj0qlNugxA+cd/NoBtEkBRsqroM8oSQGwoMesvUQhATKWz594OEkDlBZtMXfkUQI/IhMqt+QlArax4/ewsD0BFD+ddeCwQQHyca7SgLRBAVN07tE3REEAl8tEDZUMTQH1TijMHMhFAXhShy0hdFkAikTmyJ48JQKK5qAYxYRhAMKhYrJMEHkA2Ywboz50KQGE/wVGKDBlAHlt3MqrmCUD1te3iovETQKL9kfrEGRBAJRnncBdaLEAwS9oOGMETQIYPekK69g1AQUdAoR+oIUAwMe4WaCQrQCeRCVfV6g9ARE6auo6nFUAKGlbeLd0LQA17X25kXAxAGDUdR+UwFEDHLOGHqXQIQMgG+f4goBpA",
          "dtype": "f8"
         },
         "xaxis": "x",
         "yaxis": "y"
        }
       ],
       "layout": {
        "bargap": 0.05,
        "barmode": "overlay",
        "legend": {
         "title": {
          "text": "planet_type"
         },
         "tracegroupgap": 0
        },
        "template": {
         "data": {
          "bar": [
           {
            "error_x": {
             "color": "#2a3f5f"
            },
            "error_y": {
             "color": "#2a3f5f"
            },
            "marker": {
             "line": {
              "color": "#E5ECF6",
              "width": 0.5
             },
             "pattern": {
              "fillmode": "overlay",
              "size": 10,
              "solidity": 0.2
             }
            },
            "type": "bar"
           }
          ],
          "barpolar": [
           {
            "marker": {
             "line": {
              "color": "#E5ECF6",
              "width": 0.5
             },
             "pattern": {
              "fillmode": "overlay",
              "size": 10,
              "solidity": 0.2
             }
            },
            "type": "barpolar"
           }
          ],
          "carpet": [
           {
            "aaxis": {
             "endlinecolor": "#2a3f5f",
             "gridcolor": "white",
             "linecolor": "white",
             "minorgridcolor": "white",
             "startlinecolor": "#2a3f5f"
            },
            "baxis": {
             "endlinecolor": "#2a3f5f",
             "gridcolor": "white",
             "linecolor": "white",
             "minorgridcolor": "white",
             "startlinecolor": "#2a3f5f"
            },
            "type": "carpet"
           }
          ],
          "choropleth": [
           {
            "colorbar": {
             "outlinewidth": 0,
             "ticks": ""
            },
            "type": "choropleth"
           }
          ],
          "contour": [
           {
            "colorbar": {
             "outlinewidth": 0,
             "ticks": ""
            },
            "colorscale": [
             [
              0,
              "#0d0887"
             ],
             [
              0.1111111111111111,
              "#46039f"
             ],
             [
              0.2222222222222222,
              "#7201a8"
             ],
             [
              0.3333333333333333,
              "#9c179e"
             ],
             [
              0.4444444444444444,
              "#bd3786"
             ],
             [
              0.5555555555555556,
              "#d8576b"
             ],
             [
              0.6666666666666666,
              "#ed7953"
             ],
             [
              0.7777777777777778,
              "#fb9f3a"
             ],
             [
              0.8888888888888888,
              "#fdca26"
             ],
             [
              1,
              "#f0f921"
             ]
            ],
            "type": "contour"
           }
          ],
          "contourcarpet": [
           {
            "colorbar": {
             "outlinewidth": 0,
             "ticks": ""
            },
            "type": "contourcarpet"
           }
          ],
          "heatmap": [
           {
            "colorbar": {
             "outlinewidth": 0,
             "ticks": ""
            },
            "colorscale": [
             [
              0,
              "#0d0887"
             ],
             [
              0.1111111111111111,
              "#46039f"
             ],
             [
              0.2222222222222222,
              "#7201a8"
             ],
             [
              0.3333333333333333,
              "#9c179e"
             ],
             [
              0.4444444444444444,
              "#bd3786"
             ],
             [
              0.5555555555555556,
              "#d8576b"
             ],
             [
              0.6666666666666666,
              "#ed7953"
             ],
             [
              0.7777777777777778,
              "#fb9f3a"
             ],
             [
              0.8888888888888888,
              "#fdca26"
             ],
             [
              1,
              "#f0f921"
             ]
            ],
            "type": "heatmap"
           }
          ],
          "histogram": [
           {
            "marker": {
             "pattern": {
              "fillmode": "overlay",
              "size": 10,
              "solidity": 0.2
             }
            },
            "type": "histogram"
           }
          ],
          "histogram2d": [
           {
            "colorbar": {
             "outlinewidth": 0,
             "ticks": ""
            },
            "colorscale": [
             [
              0,
              "#0d0887"
             ],
             [
              0.1111111111111111,
              "#46039f"
             ],
             [
              0.2222222222222222,
              "#7201a8"
             ],
             [
              0.3333333333333333,
              "#9c179e"
             ],
             [
              0.4444444444444444,
              "#bd3786"
             ],
             [
              0.5555555555555556,
              "#d8576b"
             ],
             [
              0.6666666666666666,
              "#ed7953"
             ],
             [
              0.7777777777777778,
              "#fb9f3a"
             ],
             [
              0.8888888888888888,
              "#fdca26"
             ],
             [
              1,
              "#f0f921"
             ]
            ],
            "type": "histogram2d"
           }
          ],
          "histogram2dcontour": [
           {
            "colorbar": {
             "outlinewidth": 0,
             "ticks": ""
            },
            "colorscale": [
             [
              0,
              "#0d0887"
             ],
             [
              0.1111111111111111,
              "#46039f"
             ],
             [
              0.2222222222222222,
              "#7201a8"
             ],
             [
              0.3333333333333333,
              "#9c179e"
             ],
             [
              0.4444444444444444,
              "#bd3786"
             ],
             [
              0.5555555555555556,
              "#d8576b"
             ],
             [
              0.6666666666666666,
              "#ed7953"
             ],
             [
              0.7777777777777778,
              "#fb9f3a"
             ],
             [
              0.8888888888888888,
              "#fdca26"
             ],
             [
              1,
              "#f0f921"
             ]
            ],
            "type": "histogram2dcontour"
           }
          ],
          "mesh3d": [
           {
            "colorbar": {
             "outlinewidth": 0,
             "ticks": ""
            },
            "type": "mesh3d"
           }
          ],
          "parcoords": [
           {
            "line": {
             "colorbar": {
              "outlinewidth": 0,
              "ticks": ""
             }
            },
            "type": "parcoords"
           }
          ],
          "pie": [
           {
            "automargin": true,
            "type": "pie"
           }
          ],
          "scatter": [
           {
            "fillpattern": {
             "fillmode": "overlay",
             "size": 10,
             "solidity": 0.2
            },
            "type": "scatter"
           }
          ],
          "scatter3d": [
           {
            "line": {
             "colorbar": {
              "outlinewidth": 0,
              "ticks": ""
             }
            },
            "marker": {
             "colorbar": {
              "outlinewidth": 0,
              "ticks": ""
             }
            },
            "type": "scatter3d"
           }
          ],
          "scattercarpet": [
           {
            "marker": {
             "colorbar": {
              "outlinewidth": 0,
              "ticks": ""
             }
            },
            "type": "scattercarpet"
           }
          ],
          "scattergeo": [
           {
            "marker": {
             "colorbar": {
              "outlinewidth": 0,
              "ticks": ""
             }
            },
            "type": "scattergeo"
           }
          ],
          "scattergl": [
           {
            "marker": {
             "colorbar": {
              "outlinewidth": 0,
              "ticks": ""
             }
            },
            "type": "scattergl"
           }
          ],
          "scattermap": [
           {
            "marker": {
             "colorbar": {
              "outlinewidth": 0,
              "ticks": ""
             }
            },
            "type": "scattermap"
           }
          ],
          "scattermapbox": [
           {
            "marker": {
             "colorbar": {
              "outlinewidth": 0,
              "ticks": ""
             }
            },
            "type": "scattermapbox"
           }
          ],
          "scatterpolar": [
           {
            "marker": {
             "colorbar": {
              "outlinewidth": 0,
              "ticks": ""
             }
            },
            "type": "scatterpolar"
           }
          ],
          "scatterpolargl": [
           {
            "marker": {
             "colorbar": {
              "outlinewidth": 0,
              "ticks": ""
             }
            },
            "type": "scatterpolargl"
           }
          ],
          "scatterternary": [
           {
            "marker": {
             "colorbar": {
              "outlinewidth": 0,
              "ticks": ""
             }
            },
            "type": "scatterternary"
           }
          ],
          "surface": [
           {
            "colorbar": {
             "outlinewidth": 0,
             "ticks": ""
            },
            "colorscale": [
             [
              0,
              "#0d0887"
             ],
             [
              0.1111111111111111,
              "#46039f"
             ],
             [
              0.2222222222222222,
              "#7201a8"
             ],
             [
              0.3333333333333333,
              "#9c179e"
             ],
             [
              0.4444444444444444,
              "#bd3786"
             ],
             [
              0.5555555555555556,
              "#d8576b"
             ],
             [
              0.6666666666666666,
              "#ed7953"
             ],
             [
              0.7777777777777778,
              "#fb9f3a"
             ],
             [
              0.8888888888888888,
              "#fdca26"
             ],
             [
              1,
              "#f0f921"
             ]
            ],
            "type": "surface"
           }
          ],
          "table": [
           {
            "cells": {
             "fill": {
              "color": "#EBF0F8"
             },
             "line": {
              "color": "white"
             }
            },
            "header": {
             "fill": {
              "color": "#C8D4E3"
             },
             "line": {
              "color": "white"
             }
            },
            "type": "table"
           }
          ]
         },
         "layout": {
          "annotationdefaults": {
           "arrowcolor": "#2a3f5f",
           "arrowhead": 0,
           "arrowwidth": 1
          },
          "autotypenumbers": "strict",
          "coloraxis": {
           "colorbar": {
            "outlinewidth": 0,
            "ticks": ""
           }
          },
          "colorscale": {
           "diverging": [
            [
             0,
             "#8e0152"
            ],
            [
             0.1,
             "#c51b7d"
            ],
            [
             0.2,
             "#de77ae"
            ],
            [
             0.3,
             "#f1b6da"
            ],
            [
             0.4,
             "#fde0ef"
            ],
            [
             0.5,
             "#f7f7f7"
            ],
            [
             0.6,
             "#e6f5d0"
            ],
            [
             0.7,
             "#b8e186"
            ],
            [
             0.8,
             "#7fbc41"
            ],
            [
             0.9,
             "#4d9221"
            ],
            [
             1,
             "#276419"
            ]
           ],
           "sequential": [
            [
             0,
             "#0d0887"
            ],
            [
             0.1111111111111111,
             "#46039f"
            ],
            [
             0.2222222222222222,
             "#7201a8"
            ],
            [
             0.3333333333333333,
             "#9c179e"
            ],
            [
             0.4444444444444444,
             "#bd3786"
            ],
            [
             0.5555555555555556,
             "#d8576b"
            ],
            [
             0.6666666666666666,
             "#ed7953"
            ],
            [
             0.7777777777777778,
             "#fb9f3a"
            ],
            [
             0.8888888888888888,
             "#fdca26"
            ],
            [
             1,
             "#f0f921"
            ]
           ],
           "sequentialminus": [
            [
             0,
             "#0d0887"
            ],
            [
             0.1111111111111111,
             "#46039f"
            ],
            [
             0.2222222222222222,
             "#7201a8"
            ],
            [
             0.3333333333333333,
             "#9c179e"
            ],
            [
             0.4444444444444444,
             "#bd3786"
            ],
            [
             0.5555555555555556,
             "#d8576b"
            ],
            [
             0.6666666666666666,
             "#ed7953"
            ],
            [
             0.7777777777777778,
             "#fb9f3a"
            ],
            [
             0.8888888888888888,
             "#fdca26"
            ],
            [
             1,
             "#f0f921"
            ]
           ]
          },
          "colorway": [
           "#636efa",
           "#EF553B",
           "#00cc96",
           "#ab63fa",
           "#FFA15A",
           "#19d3f3",
           "#FF6692",
           "#B6E880",
           "#FF97FF",
           "#FECB52"
          ],
          "font": {
           "color": "#2a3f5f"
          },
          "geo": {
           "bgcolor": "white",
           "lakecolor": "white",
           "landcolor": "#E5ECF6",
           "showlakes": true,
           "showland": true,
           "subunitcolor": "white"
          },
          "hoverlabel": {
           "align": "left"
          },
          "hovermode": "closest",
          "mapbox": {
           "style": "light"
          },
          "paper_bgcolor": "white",
          "plot_bgcolor": "#E5ECF6",
          "polar": {
           "angularaxis": {
            "gridcolor": "white",
            "linecolor": "white",
            "ticks": ""
           },
           "bgcolor": "#E5ECF6",
           "radialaxis": {
            "gridcolor": "white",
            "linecolor": "white",
            "ticks": ""
           }
          },
          "scene": {
           "xaxis": {
            "backgroundcolor": "#E5ECF6",
            "gridcolor": "white",
            "gridwidth": 2,
            "linecolor": "white",
            "showbackground": true,
            "ticks": "",
            "zerolinecolor": "white"
           },
           "yaxis": {
            "backgroundcolor": "#E5ECF6",
            "gridcolor": "white",
            "gridwidth": 2,
            "linecolor": "white",
            "showbackground": true,
            "ticks": "",
            "zerolinecolor": "white"
           },
           "zaxis": {
            "backgroundcolor": "#E5ECF6",
            "gridcolor": "white",
            "gridwidth": 2,
            "linecolor": "white",
            "showbackground": true,
            "ticks": "",
            "zerolinecolor": "white"
           }
          },
          "shapedefaults": {
           "line": {
            "color": "#2a3f5f"
           }
          },
          "ternary": {
           "aaxis": {
            "gridcolor": "white",
            "linecolor": "white",
            "ticks": ""
           },
           "baxis": {
            "gridcolor": "white",
            "linecolor": "white",
            "ticks": ""
           },
           "bgcolor": "#E5ECF6",
           "caxis": {
            "gridcolor": "white",
            "linecolor": "white",
            "ticks": ""
           }
          },
          "title": {
           "x": 0.05
          },
          "xaxis": {
           "automargin": true,
           "gridcolor": "white",
           "linecolor": "white",
           "ticks": "",
           "title": {
            "standoff": 15
           },
           "zerolinecolor": "white",
           "zerolinewidth": 2
          },
          "yaxis": {
           "automargin": true,
           "gridcolor": "white",
           "linecolor": "white",
           "ticks": "",
           "title": {
            "standoff": 15
           },
           "zerolinecolor": "white",
           "zerolinewidth": 2
          }
         }
        },
        "title": {
         "text": "Interactive Planet Density Distribution"
        },
        "xaxis": {
         "anchor": "y",
         "domain": [
          0,
          1
         ],
         "title": {
          "text": "Density (g/cm³)"
         }
        },
        "yaxis": {
         "anchor": "x",
         "domain": [
          0,
          1
         ],
         "title": {
          "text": "Number of Planets"
         }
        }
       }
      }
     },
     "metadata": {},
     "output_type": "display_data"
    }
   ],
   "source": [
    "#Interactive Density Distribution Plot\n",
    "#OpenAI. (2025). ChatGPT (Sept 20 version) [Large language model].\n",
    "#Retrieved from https://chat.openai.com/\n",
    "import plotly.express as px\n",
    "\n",
    "\n",
    "fig = px.histogram(\n",
    "    df_cleaned,\n",
    "    x=\"density_g_cm3\",       # numeric column on x-axis\n",
    "    color=\"planet_type\",     # hue by category\n",
    "    nbins=30,\n",
    "    barmode=\"overlay\",\n",
    "    title=\"Interactive Planet Density Distribution\"\n",
    ")\n",
    "fig.update_layout(\n",
    "    xaxis_title=\"Density (g/cm³)\",\n",
    "    yaxis_title=\"Number of Planets\",\n",
    "    bargap=0.05\n",
    ")\n",
    "fig.show()"
   ]
  },
  {
   "cell_type": "code",
   "execution_count": 140,
   "id": "be9438c4",
   "metadata": {},
   "outputs": [
    {
     "name": "stdout",
     "output_type": "stream",
     "text": [
      "planet_type\n",
      "Gaseous        119\n",
      "Terrestrial     78\n",
      "Name: count, dtype: int64\n"
     ]
    }
   ],
   "source": [
    "print(df_cleaned[\"planet_type\"].value_counts())"
   ]
  },
  {
   "cell_type": "code",
   "execution_count": 141,
   "id": "4efa9bf0",
   "metadata": {},
   "outputs": [
    {
     "data": {
      "text/plain": [
       "<Axes: xlabel='density_g_cm3', ylabel='Count'>"
      ]
     },
     "execution_count": 141,
     "metadata": {},
     "output_type": "execute_result"
    },
    {
     "data": {
      "image/png": "[encoded data removed]",
      "text/plain": [
       "<Figure size 640x480 with 1 Axes>"
      ]
     },
     "metadata": {},
     "output_type": "display_data"
    }
   ],
   "source": [
    "#Static Density Distribution Plot\n",
    "df_cleaned.head()\n",
    "\n",
    "sns.histplot(data=df_cleaned,x=\"density_g_cm3\",hue=\"planet_type\")"
   ]
  },
  {
   "cell_type": "code",
   "execution_count": 142,
   "id": "1ac0f7fe",
   "metadata": {},
   "outputs": [],
   "source": [
    "df_cleaned[\"f_radius\"]      = df_cleaned[\"pl_rade\"].between(0.5, 1.6)\n",
    "df_cleaned[\"f_mass\"]        = df_cleaned[\"pl_bmasse\"].between(0.2, 5.0)\n",
    "df_cleaned[\"f_insolation\"]  = df_cleaned[\"pl_insol\"].between(0.35, 1.75)\n",
    "df_cleaned[\"f_eq_temp\"]     = df_cleaned[\"pl_eqt\"].between(180, 310)\n",
    "df_cleaned[\"f_star_teff\"]   = df_cleaned[\"st_teff\"].between(3500, 6500)\n",
    "df_cleaned[\"f_eccentric\"]   = df_cleaned[\"pl_orbeccen\"] < 0.2\n"
   ]
  },
  {
   "cell_type": "code",
   "execution_count": 143,
   "id": "9bf827fb",
   "metadata": {},
   "outputs": [
    {
     "name": "stdout",
     "output_type": "stream",
     "text": [
      "count    197.000000\n",
      "mean       6.896561\n",
      "std        5.162238\n",
      "min        0.640000\n",
      "25%        2.390000\n",
      "50%        5.090000\n",
      "75%       11.679758\n",
      "max       22.193820\n",
      "Name: pl_rade, dtype: float64\n",
      "count     197.000000\n",
      "mean      274.382701\n",
      "std       584.274312\n",
      "min         0.070000\n",
      "25%         7.320000\n",
      "50%        30.000000\n",
      "75%       254.000000\n",
      "max      4096.808166\n",
      "Name: pl_bmasse, dtype: float64\n",
      "count     197.000000\n",
      "mean      358.176136\n",
      "std       796.846229\n",
      "min         0.342000\n",
      "25%        12.920000\n",
      "50%        46.700000\n",
      "75%       308.000000\n",
      "max      5805.000000\n",
      "Name: pl_insol, dtype: float64\n",
      "count     197.000000\n",
      "mean      887.538934\n",
      "std       489.909658\n",
      "min       251.000000\n",
      "25%       528.000000\n",
      "50%       723.000000\n",
      "75%      1192.000000\n",
      "max      2429.000000\n",
      "Name: pl_eqt, dtype: float64\n",
      "count     197.000000\n",
      "mean     4890.791878\n",
      "std      1033.142503\n",
      "min      2960.000000\n",
      "25%      3841.000000\n",
      "50%      5083.000000\n",
      "75%      5725.000000\n",
      "max      7690.000000\n",
      "Name: st_teff, dtype: float64\n",
      "count    197.000000\n",
      "mean       0.117347\n",
      "std        0.141762\n",
      "min        0.000000\n",
      "25%        0.037000\n",
      "50%        0.070000\n",
      "75%        0.152000\n",
      "max        0.920000\n",
      "Name: pl_orbeccen, dtype: float64\n"
     ]
    }
   ],
   "source": [
    "print(df_cleaned[\"pl_rade\"].describe())\n",
    "print(df_cleaned[\"pl_bmasse\"].describe())\n",
    "print(df_cleaned[\"pl_insol\"].describe())\n",
    "print(df_cleaned[\"pl_eqt\"].describe())\n",
    "print(df_cleaned[\"st_teff\"].describe())\n",
    "print(df_cleaned[\"pl_orbeccen\"].describe())"
   ]
  },
  {
   "cell_type": "code",
   "execution_count": 144,
   "id": "6ef092a7",
   "metadata": {},
   "outputs": [],
   "source": [
    "criteria_cols = [\n",
    "    \"f_radius\", \"f_mass\", \"f_insolation\",\n",
    "    \"f_eq_temp\", \"f_star_teff\", \"f_eccentric\"\n",
    "]\n",
    "\n",
    "df_cleaned[\"Potential Habitability\"] = df_cleaned[criteria_cols].sum(axis=1)"
   ]
  },
  {
   "cell_type": "code",
   "execution_count": 145,
   "id": "9302c76c",
   "metadata": {},
   "outputs": [
    {
     "data": {
      "text/plain": [
       "Potential Habitability\n",
       "2    121\n",
       "1     38\n",
       "3     23\n",
       "4     14\n",
       "0      1\n",
       "Name: count, dtype: int64"
      ]
     },
     "execution_count": 145,
     "metadata": {},
     "output_type": "execute_result"
    },
    {
     "data": {
      "image/png": "[encoded data removed]",
      "text/plain": [
       "<Figure size 640x480 with 1 Axes>"
      ]
     },
     "metadata": {},
     "output_type": "display_data"
    }
   ],
   "source": [
    "sns.histplot(data=df_cleaned,x=\"Potential Habitability\")\n",
    "df_cleaned.value_counts(\"Potential Habitability\")"
   ]
  },
  {
   "cell_type": "code",
   "execution_count": 146,
   "id": "c12afc01",
   "metadata": {},
   "outputs": [
    {
     "data": {
      "text/html": [
       "<div>\n",
       "<style scoped>\n",
       "    .dataframe tbody tr th:only-of-type {\n",
       "        vertical-align: middle;\n",
       "    }\n",
       "\n",
       "    .dataframe tbody tr th {\n",
       "        vertical-align: top;\n",
       "    }\n",
       "\n",
       "    .dataframe thead th {\n",
       "        text-align: right;\n",
       "    }\n",
       "</style>\n",
       "<table border=\"1\" class=\"dataframe\">\n",
       "  <thead>\n",
       "    <tr style=\"text-align: right;\">\n",
       "      <th></th>\n",
       "      <th>pl_name</th>\n",
       "      <th>hostname</th>\n",
       "      <th>default_flag</th>\n",
       "      <th>sy_snum</th>\n",
       "      <th>sy_pnum</th>\n",
       "      <th>pl_controv_flag</th>\n",
       "      <th>pl_orbper</th>\n",
       "      <th>pl_orbsmax</th>\n",
       "      <th>pl_rade</th>\n",
       "      <th>pl_radj</th>\n",
       "      <th>...</th>\n",
       "      <th>density_kg_m3</th>\n",
       "      <th>density_g_cm3</th>\n",
       "      <th>planet_type</th>\n",
       "      <th>f_radius</th>\n",
       "      <th>f_mass</th>\n",
       "      <th>f_insolation</th>\n",
       "      <th>f_eq_temp</th>\n",
       "      <th>f_star_teff</th>\n",
       "      <th>f_eccentric</th>\n",
       "      <th>Potential Habitability</th>\n",
       "    </tr>\n",
       "  </thead>\n",
       "  <tbody>\n",
       "    <tr>\n",
       "      <th>500</th>\n",
       "      <td>EPIC 220674823 c</td>\n",
       "      <td>EPIC 220674823</td>\n",
       "      <td>1</td>\n",
       "      <td>1</td>\n",
       "      <td>2</td>\n",
       "      <td>0</td>\n",
       "      <td>13.339890</td>\n",
       "      <td>0.10730</td>\n",
       "      <td>2.840000</td>\n",
       "      <td>0.253368</td>\n",
       "      <td>...</td>\n",
       "      <td>1761.831763</td>\n",
       "      <td>1.761832</td>\n",
       "      <td>Gaseous</td>\n",
       "      <td>False</td>\n",
       "      <td>False</td>\n",
       "      <td>False</td>\n",
       "      <td>False</td>\n",
       "      <td>True</td>\n",
       "      <td>True</td>\n",
       "      <td>2</td>\n",
       "    </tr>\n",
       "    <tr>\n",
       "      <th>512</th>\n",
       "      <td>EPIC 249893012 b</td>\n",
       "      <td>EPIC 249893012</td>\n",
       "      <td>1</td>\n",
       "      <td>1</td>\n",
       "      <td>3</td>\n",
       "      <td>0</td>\n",
       "      <td>3.595100</td>\n",
       "      <td>0.04700</td>\n",
       "      <td>1.950000</td>\n",
       "      <td>0.173967</td>\n",
       "      <td>...</td>\n",
       "      <td>6505.978046</td>\n",
       "      <td>6.505978</td>\n",
       "      <td>Terrestrial</td>\n",
       "      <td>False</td>\n",
       "      <td>False</td>\n",
       "      <td>False</td>\n",
       "      <td>False</td>\n",
       "      <td>True</td>\n",
       "      <td>True</td>\n",
       "      <td>2</td>\n",
       "    </tr>\n",
       "    <tr>\n",
       "      <th>513</th>\n",
       "      <td>EPIC 249893012 c</td>\n",
       "      <td>EPIC 249893012</td>\n",
       "      <td>1</td>\n",
       "      <td>1</td>\n",
       "      <td>3</td>\n",
       "      <td>0</td>\n",
       "      <td>15.624000</td>\n",
       "      <td>0.13000</td>\n",
       "      <td>3.670000</td>\n",
       "      <td>0.327415</td>\n",
       "      <td>...</td>\n",
       "      <td>1636.214721</td>\n",
       "      <td>1.636215</td>\n",
       "      <td>Gaseous</td>\n",
       "      <td>False</td>\n",
       "      <td>False</td>\n",
       "      <td>False</td>\n",
       "      <td>False</td>\n",
       "      <td>True</td>\n",
       "      <td>True</td>\n",
       "      <td>2</td>\n",
       "    </tr>\n",
       "    <tr>\n",
       "      <th>514</th>\n",
       "      <td>EPIC 249893012 d</td>\n",
       "      <td>EPIC 249893012</td>\n",
       "      <td>1</td>\n",
       "      <td>1</td>\n",
       "      <td>3</td>\n",
       "      <td>0</td>\n",
       "      <td>35.747000</td>\n",
       "      <td>0.22000</td>\n",
       "      <td>3.940000</td>\n",
       "      <td>0.351503</td>\n",
       "      <td>...</td>\n",
       "      <td>917.629754</td>\n",
       "      <td>0.917630</td>\n",
       "      <td>Gaseous</td>\n",
       "      <td>False</td>\n",
       "      <td>False</td>\n",
       "      <td>False</td>\n",
       "      <td>False</td>\n",
       "      <td>True</td>\n",
       "      <td>True</td>\n",
       "      <td>2</td>\n",
       "    </tr>\n",
       "    <tr>\n",
       "      <th>535</th>\n",
       "      <td>GJ 1132 b</td>\n",
       "      <td>GJ 1132</td>\n",
       "      <td>1</td>\n",
       "      <td>1</td>\n",
       "      <td>2</td>\n",
       "      <td>0</td>\n",
       "      <td>1.628929</td>\n",
       "      <td>0.01570</td>\n",
       "      <td>1.191515</td>\n",
       "      <td>0.106300</td>\n",
       "      <td>...</td>\n",
       "      <td>5987.296479</td>\n",
       "      <td>5.987296</td>\n",
       "      <td>Terrestrial</td>\n",
       "      <td>True</td>\n",
       "      <td>True</td>\n",
       "      <td>False</td>\n",
       "      <td>False</td>\n",
       "      <td>False</td>\n",
       "      <td>True</td>\n",
       "      <td>3</td>\n",
       "    </tr>\n",
       "    <tr>\n",
       "      <th>...</th>\n",
       "      <td>...</td>\n",
       "      <td>...</td>\n",
       "      <td>...</td>\n",
       "      <td>...</td>\n",
       "      <td>...</td>\n",
       "      <td>...</td>\n",
       "      <td>...</td>\n",
       "      <td>...</td>\n",
       "      <td>...</td>\n",
       "      <td>...</td>\n",
       "      <td>...</td>\n",
       "      <td>...</td>\n",
       "      <td>...</td>\n",
       "      <td>...</td>\n",
       "      <td>...</td>\n",
       "      <td>...</td>\n",
       "      <td>...</td>\n",
       "      <td>...</td>\n",
       "      <td>...</td>\n",
       "      <td>...</td>\n",
       "      <td>...</td>\n",
       "    </tr>\n",
       "    <tr>\n",
       "      <th>37781</th>\n",
       "      <td>WASP-19 b</td>\n",
       "      <td>WASP-19</td>\n",
       "      <td>1</td>\n",
       "      <td>1</td>\n",
       "      <td>1</td>\n",
       "      <td>0</td>\n",
       "      <td>0.788839</td>\n",
       "      <td>0.01652</td>\n",
       "      <td>15.860708</td>\n",
       "      <td>1.415000</td>\n",
       "      <td>...</td>\n",
       "      <td>506.803039</td>\n",
       "      <td>0.506803</td>\n",
       "      <td>Gaseous</td>\n",
       "      <td>False</td>\n",
       "      <td>False</td>\n",
       "      <td>False</td>\n",
       "      <td>False</td>\n",
       "      <td>True</td>\n",
       "      <td>True</td>\n",
       "      <td>2</td>\n",
       "    </tr>\n",
       "    <tr>\n",
       "      <th>37791</th>\n",
       "      <td>WASP-193 b</td>\n",
       "      <td>WASP-193</td>\n",
       "      <td>1</td>\n",
       "      <td>1</td>\n",
       "      <td>1</td>\n",
       "      <td>0</td>\n",
       "      <td>6.246334</td>\n",
       "      <td>0.06760</td>\n",
       "      <td>16.409948</td>\n",
       "      <td>1.464000</td>\n",
       "      <td>...</td>\n",
       "      <td>55.118107</td>\n",
       "      <td>0.055118</td>\n",
       "      <td>Gaseous</td>\n",
       "      <td>False</td>\n",
       "      <td>False</td>\n",
       "      <td>False</td>\n",
       "      <td>False</td>\n",
       "      <td>True</td>\n",
       "      <td>True</td>\n",
       "      <td>2</td>\n",
       "    </tr>\n",
       "    <tr>\n",
       "      <th>38369</th>\n",
       "      <td>WASP-76 b</td>\n",
       "      <td>WASP-76</td>\n",
       "      <td>0</td>\n",
       "      <td>2</td>\n",
       "      <td>1</td>\n",
       "      <td>0</td>\n",
       "      <td>1.809882</td>\n",
       "      <td>0.03304</td>\n",
       "      <td>20.680569</td>\n",
       "      <td>1.845000</td>\n",
       "      <td>...</td>\n",
       "      <td>180.283094</td>\n",
       "      <td>0.180283</td>\n",
       "      <td>Gaseous</td>\n",
       "      <td>False</td>\n",
       "      <td>False</td>\n",
       "      <td>False</td>\n",
       "      <td>False</td>\n",
       "      <td>True</td>\n",
       "      <td>True</td>\n",
       "      <td>2</td>\n",
       "    </tr>\n",
       "    <tr>\n",
       "      <th>38373</th>\n",
       "      <td>WASP-77 A b</td>\n",
       "      <td>WASP-77 A</td>\n",
       "      <td>0</td>\n",
       "      <td>2</td>\n",
       "      <td>1</td>\n",
       "      <td>0</td>\n",
       "      <td>1.360029</td>\n",
       "      <td>0.02335</td>\n",
       "      <td>13.787046</td>\n",
       "      <td>1.230000</td>\n",
       "      <td>...</td>\n",
       "      <td>1114.610134</td>\n",
       "      <td>1.114610</td>\n",
       "      <td>Gaseous</td>\n",
       "      <td>False</td>\n",
       "      <td>False</td>\n",
       "      <td>False</td>\n",
       "      <td>False</td>\n",
       "      <td>True</td>\n",
       "      <td>True</td>\n",
       "      <td>2</td>\n",
       "    </tr>\n",
       "    <tr>\n",
       "      <th>38653</th>\n",
       "      <td>XO-7 b</td>\n",
       "      <td>XO-7</td>\n",
       "      <td>1</td>\n",
       "      <td>1</td>\n",
       "      <td>1</td>\n",
       "      <td>0</td>\n",
       "      <td>2.864142</td>\n",
       "      <td>0.04421</td>\n",
       "      <td>15.389957</td>\n",
       "      <td>1.373000</td>\n",
       "      <td>...</td>\n",
       "      <td>340.829579</td>\n",
       "      <td>0.340830</td>\n",
       "      <td>Gaseous</td>\n",
       "      <td>False</td>\n",
       "      <td>False</td>\n",
       "      <td>False</td>\n",
       "      <td>False</td>\n",
       "      <td>True</td>\n",
       "      <td>True</td>\n",
       "      <td>2</td>\n",
       "    </tr>\n",
       "  </tbody>\n",
       "</table>\n",
       "<p>197 rows × 32 columns</p>\n",
       "</div>"
      ],
      "text/plain": [
       "                pl_name        hostname  default_flag  sy_snum  sy_pnum  \\\n",
       "500    EPIC 220674823 c  EPIC 220674823             1        1        2   \n",
       "512    EPIC 249893012 b  EPIC 249893012             1        1        3   \n",
       "513    EPIC 249893012 c  EPIC 249893012             1        1        3   \n",
       "514    EPIC 249893012 d  EPIC 249893012             1        1        3   \n",
       "535           GJ 1132 b         GJ 1132             1        1        2   \n",
       "...                 ...             ...           ...      ...      ...   \n",
       "37781         WASP-19 b         WASP-19             1        1        1   \n",
       "37791        WASP-193 b        WASP-193             1        1        1   \n",
       "38369         WASP-76 b         WASP-76             0        2        1   \n",
       "38373       WASP-77 A b       WASP-77 A             0        2        1   \n",
       "38653            XO-7 b            XO-7             1        1        1   \n",
       "\n",
       "       pl_controv_flag  pl_orbper  pl_orbsmax    pl_rade   pl_radj  ...  \\\n",
       "500                  0  13.339890     0.10730   2.840000  0.253368  ...   \n",
       "512                  0   3.595100     0.04700   1.950000  0.173967  ...   \n",
       "513                  0  15.624000     0.13000   3.670000  0.327415  ...   \n",
       "514                  0  35.747000     0.22000   3.940000  0.351503  ...   \n",
       "535                  0   1.628929     0.01570   1.191515  0.106300  ...   \n",
       "...                ...        ...         ...        ...       ...  ...   \n",
       "37781                0   0.788839     0.01652  15.860708  1.415000  ...   \n",
       "37791                0   6.246334     0.06760  16.409948  1.464000  ...   \n",
       "38369                0   1.809882     0.03304  20.680569  1.845000  ...   \n",
       "38373                0   1.360029     0.02335  13.787046  1.230000  ...   \n",
       "38653                0   2.864142     0.04421  15.389957  1.373000  ...   \n",
       "\n",
       "       density_kg_m3  density_g_cm3  planet_type  f_radius  f_mass  \\\n",
       "500      1761.831763       1.761832      Gaseous     False   False   \n",
       "512      6505.978046       6.505978  Terrestrial     False   False   \n",
       "513      1636.214721       1.636215      Gaseous     False   False   \n",
       "514       917.629754       0.917630      Gaseous     False   False   \n",
       "535      5987.296479       5.987296  Terrestrial      True    True   \n",
       "...              ...            ...          ...       ...     ...   \n",
       "37781     506.803039       0.506803      Gaseous     False   False   \n",
       "37791      55.118107       0.055118      Gaseous     False   False   \n",
       "38369     180.283094       0.180283      Gaseous     False   False   \n",
       "38373    1114.610134       1.114610      Gaseous     False   False   \n",
       "38653     340.829579       0.340830      Gaseous     False   False   \n",
       "\n",
       "       f_insolation  f_eq_temp  f_star_teff  f_eccentric  \\\n",
       "500           False      False         True         True   \n",
       "512           False      False         True         True   \n",
       "513           False      False         True         True   \n",
       "514           False      False         True         True   \n",
       "535           False      False        False         True   \n",
       "...             ...        ...          ...          ...   \n",
       "37781         False      False         True         True   \n",
       "37791         False      False         True         True   \n",
       "38369         False      False         True         True   \n",
       "38373         False      False         True         True   \n",
       "38653         False      False         True         True   \n",
       "\n",
       "      Potential Habitability  \n",
       "500                        2  \n",
       "512                        2  \n",
       "513                        2  \n",
       "514                        2  \n",
       "535                        3  \n",
       "...                      ...  \n",
       "37781                      2  \n",
       "37791                      2  \n",
       "38369                      2  \n",
       "38373                      2  \n",
       "38653                      2  \n",
       "\n",
       "[197 rows x 32 columns]"
      ]
     },
     "execution_count": 146,
     "metadata": {},
     "output_type": "execute_result"
    }
   ],
   "source": [
    "df_cleaned"
   ]
  },
  {
   "cell_type": "code",
   "execution_count": null,
   "id": "fcd3e92e",
   "metadata": {},
   "outputs": [
    {
     "name": "stdout",
     "output_type": "stream",
     "text": [
      "f_eccentric\n",
      "True     167\n",
      "False     30\n",
      "Name: count, dtype: int64\n",
      "f_star_teff\n",
      "True     167\n",
      "False     30\n",
      "Name: count, dtype: int64\n",
      "f_eq_temp\n",
      "False    193\n",
      "True       4\n",
      "Name: count, dtype: int64\n",
      "f_insolation\n",
      "False    194\n",
      "True       3\n",
      "Name: count, dtype: int64\n",
      "f_mass\n",
      "False    161\n",
      "True      36\n",
      "Name: count, dtype: int64\n",
      "f_radius\n",
      "False    169\n",
      "True      28\n",
      "Name: count, dtype: int64\n"
     ]
    }
   ],
   "source": [
    "print(df_cleaned[\"f_eccentric\"].value_counts())\n",
    "print(df_cleaned[\"f_star_teff\"].value_counts())\n",
    "print(df_cleaned[\"f_eq_temp\"].value_counts())\n",
    "print(df_cleaned[\"f_insolation\"].value_counts())\n",
    "print(df_cleaned[\"f_mass\"].value_counts())\n",
    "print(df_cleaned[\"f_radius\"].value_counts())\n"
   ]
  },
  {
   "cell_type": "code",
   "execution_count": 147,
   "id": "d1df08a9",
   "metadata": {},
   "outputs": [
    {
     "data": {
      "text/html": [
       "<div>\n",
       "<style scoped>\n",
       "    .dataframe tbody tr th:only-of-type {\n",
       "        vertical-align: middle;\n",
       "    }\n",
       "\n",
       "    .dataframe tbody tr th {\n",
       "        vertical-align: top;\n",
       "    }\n",
       "\n",
       "    .dataframe thead th {\n",
       "        text-align: right;\n",
       "    }\n",
       "</style>\n",
       "<table border=\"1\" class=\"dataframe\">\n",
       "  <thead>\n",
       "    <tr style=\"text-align: right;\">\n",
       "      <th></th>\n",
       "      <th>pl_name</th>\n",
       "      <th>hostname</th>\n",
       "      <th>default_flag</th>\n",
       "      <th>sy_snum</th>\n",
       "      <th>sy_pnum</th>\n",
       "      <th>pl_controv_flag</th>\n",
       "      <th>pl_orbper</th>\n",
       "      <th>pl_orbsmax</th>\n",
       "      <th>pl_rade</th>\n",
       "      <th>pl_radj</th>\n",
       "      <th>...</th>\n",
       "      <th>density_kg_m3</th>\n",
       "      <th>density_g_cm3</th>\n",
       "      <th>planet_type</th>\n",
       "      <th>f_radius</th>\n",
       "      <th>f_mass</th>\n",
       "      <th>f_insolation</th>\n",
       "      <th>f_eq_temp</th>\n",
       "      <th>f_star_teff</th>\n",
       "      <th>f_eccentric</th>\n",
       "      <th>Potential Habitability</th>\n",
       "    </tr>\n",
       "  </thead>\n",
       "  <tbody>\n",
       "    <tr>\n",
       "      <th>500</th>\n",
       "      <td>EPIC 220674823 c</td>\n",
       "      <td>EPIC 220674823</td>\n",
       "      <td>1</td>\n",
       "      <td>1</td>\n",
       "      <td>2</td>\n",
       "      <td>0</td>\n",
       "      <td>13.339890</td>\n",
       "      <td>0.10730</td>\n",
       "      <td>2.840000</td>\n",
       "      <td>0.253368</td>\n",
       "      <td>...</td>\n",
       "      <td>1761.831763</td>\n",
       "      <td>1.761832</td>\n",
       "      <td>Gaseous</td>\n",
       "      <td>False</td>\n",
       "      <td>False</td>\n",
       "      <td>False</td>\n",
       "      <td>False</td>\n",
       "      <td>True</td>\n",
       "      <td>True</td>\n",
       "      <td>2</td>\n",
       "    </tr>\n",
       "    <tr>\n",
       "      <th>512</th>\n",
       "      <td>EPIC 249893012 b</td>\n",
       "      <td>EPIC 249893012</td>\n",
       "      <td>1</td>\n",
       "      <td>1</td>\n",
       "      <td>3</td>\n",
       "      <td>0</td>\n",
       "      <td>3.595100</td>\n",
       "      <td>0.04700</td>\n",
       "      <td>1.950000</td>\n",
       "      <td>0.173967</td>\n",
       "      <td>...</td>\n",
       "      <td>6505.978046</td>\n",
       "      <td>6.505978</td>\n",
       "      <td>Terrestrial</td>\n",
       "      <td>False</td>\n",
       "      <td>False</td>\n",
       "      <td>False</td>\n",
       "      <td>False</td>\n",
       "      <td>True</td>\n",
       "      <td>True</td>\n",
       "      <td>2</td>\n",
       "    </tr>\n",
       "    <tr>\n",
       "      <th>513</th>\n",
       "      <td>EPIC 249893012 c</td>\n",
       "      <td>EPIC 249893012</td>\n",
       "      <td>1</td>\n",
       "      <td>1</td>\n",
       "      <td>3</td>\n",
       "      <td>0</td>\n",
       "      <td>15.624000</td>\n",
       "      <td>0.13000</td>\n",
       "      <td>3.670000</td>\n",
       "      <td>0.327415</td>\n",
       "      <td>...</td>\n",
       "      <td>1636.214721</td>\n",
       "      <td>1.636215</td>\n",
       "      <td>Gaseous</td>\n",
       "      <td>False</td>\n",
       "      <td>False</td>\n",
       "      <td>False</td>\n",
       "      <td>False</td>\n",
       "      <td>True</td>\n",
       "      <td>True</td>\n",
       "      <td>2</td>\n",
       "    </tr>\n",
       "    <tr>\n",
       "      <th>514</th>\n",
       "      <td>EPIC 249893012 d</td>\n",
       "      <td>EPIC 249893012</td>\n",
       "      <td>1</td>\n",
       "      <td>1</td>\n",
       "      <td>3</td>\n",
       "      <td>0</td>\n",
       "      <td>35.747000</td>\n",
       "      <td>0.22000</td>\n",
       "      <td>3.940000</td>\n",
       "      <td>0.351503</td>\n",
       "      <td>...</td>\n",
       "      <td>917.629754</td>\n",
       "      <td>0.917630</td>\n",
       "      <td>Gaseous</td>\n",
       "      <td>False</td>\n",
       "      <td>False</td>\n",
       "      <td>False</td>\n",
       "      <td>False</td>\n",
       "      <td>True</td>\n",
       "      <td>True</td>\n",
       "      <td>2</td>\n",
       "    </tr>\n",
       "    <tr>\n",
       "      <th>535</th>\n",
       "      <td>GJ 1132 b</td>\n",
       "      <td>GJ 1132</td>\n",
       "      <td>1</td>\n",
       "      <td>1</td>\n",
       "      <td>2</td>\n",
       "      <td>0</td>\n",
       "      <td>1.628929</td>\n",
       "      <td>0.01570</td>\n",
       "      <td>1.191515</td>\n",
       "      <td>0.106300</td>\n",
       "      <td>...</td>\n",
       "      <td>5987.296479</td>\n",
       "      <td>5.987296</td>\n",
       "      <td>Terrestrial</td>\n",
       "      <td>True</td>\n",
       "      <td>True</td>\n",
       "      <td>False</td>\n",
       "      <td>False</td>\n",
       "      <td>False</td>\n",
       "      <td>True</td>\n",
       "      <td>3</td>\n",
       "    </tr>\n",
       "    <tr>\n",
       "      <th>...</th>\n",
       "      <td>...</td>\n",
       "      <td>...</td>\n",
       "      <td>...</td>\n",
       "      <td>...</td>\n",
       "      <td>...</td>\n",
       "      <td>...</td>\n",
       "      <td>...</td>\n",
       "      <td>...</td>\n",
       "      <td>...</td>\n",
       "      <td>...</td>\n",
       "      <td>...</td>\n",
       "      <td>...</td>\n",
       "      <td>...</td>\n",
       "      <td>...</td>\n",
       "      <td>...</td>\n",
       "      <td>...</td>\n",
       "      <td>...</td>\n",
       "      <td>...</td>\n",
       "      <td>...</td>\n",
       "      <td>...</td>\n",
       "      <td>...</td>\n",
       "    </tr>\n",
       "    <tr>\n",
       "      <th>37781</th>\n",
       "      <td>WASP-19 b</td>\n",
       "      <td>WASP-19</td>\n",
       "      <td>1</td>\n",
       "      <td>1</td>\n",
       "      <td>1</td>\n",
       "      <td>0</td>\n",
       "      <td>0.788839</td>\n",
       "      <td>0.01652</td>\n",
       "      <td>15.860708</td>\n",
       "      <td>1.415000</td>\n",
       "      <td>...</td>\n",
       "      <td>506.803039</td>\n",
       "      <td>0.506803</td>\n",
       "      <td>Gaseous</td>\n",
       "      <td>False</td>\n",
       "      <td>False</td>\n",
       "      <td>False</td>\n",
       "      <td>False</td>\n",
       "      <td>True</td>\n",
       "      <td>True</td>\n",
       "      <td>2</td>\n",
       "    </tr>\n",
       "    <tr>\n",
       "      <th>37791</th>\n",
       "      <td>WASP-193 b</td>\n",
       "      <td>WASP-193</td>\n",
       "      <td>1</td>\n",
       "      <td>1</td>\n",
       "      <td>1</td>\n",
       "      <td>0</td>\n",
       "      <td>6.246334</td>\n",
       "      <td>0.06760</td>\n",
       "      <td>16.409948</td>\n",
       "      <td>1.464000</td>\n",
       "      <td>...</td>\n",
       "      <td>55.118107</td>\n",
       "      <td>0.055118</td>\n",
       "      <td>Gaseous</td>\n",
       "      <td>False</td>\n",
       "      <td>False</td>\n",
       "      <td>False</td>\n",
       "      <td>False</td>\n",
       "      <td>True</td>\n",
       "      <td>True</td>\n",
       "      <td>2</td>\n",
       "    </tr>\n",
       "    <tr>\n",
       "      <th>38369</th>\n",
       "      <td>WASP-76 b</td>\n",
       "      <td>WASP-76</td>\n",
       "      <td>0</td>\n",
       "      <td>2</td>\n",
       "      <td>1</td>\n",
       "      <td>0</td>\n",
       "      <td>1.809882</td>\n",
       "      <td>0.03304</td>\n",
       "      <td>20.680569</td>\n",
       "      <td>1.845000</td>\n",
       "      <td>...</td>\n",
       "      <td>180.283094</td>\n",
       "      <td>0.180283</td>\n",
       "      <td>Gaseous</td>\n",
       "      <td>False</td>\n",
       "      <td>False</td>\n",
       "      <td>False</td>\n",
       "      <td>False</td>\n",
       "      <td>True</td>\n",
       "      <td>True</td>\n",
       "      <td>2</td>\n",
       "    </tr>\n",
       "    <tr>\n",
       "      <th>38373</th>\n",
       "      <td>WASP-77 A b</td>\n",
       "      <td>WASP-77 A</td>\n",
       "      <td>0</td>\n",
       "      <td>2</td>\n",
       "      <td>1</td>\n",
       "      <td>0</td>\n",
       "      <td>1.360029</td>\n",
       "      <td>0.02335</td>\n",
       "      <td>13.787046</td>\n",
       "      <td>1.230000</td>\n",
       "      <td>...</td>\n",
       "      <td>1114.610134</td>\n",
       "      <td>1.114610</td>\n",
       "      <td>Gaseous</td>\n",
       "      <td>False</td>\n",
       "      <td>False</td>\n",
       "      <td>False</td>\n",
       "      <td>False</td>\n",
       "      <td>True</td>\n",
       "      <td>True</td>\n",
       "      <td>2</td>\n",
       "    </tr>\n",
       "    <tr>\n",
       "      <th>38653</th>\n",
       "      <td>XO-7 b</td>\n",
       "      <td>XO-7</td>\n",
       "      <td>1</td>\n",
       "      <td>1</td>\n",
       "      <td>1</td>\n",
       "      <td>0</td>\n",
       "      <td>2.864142</td>\n",
       "      <td>0.04421</td>\n",
       "      <td>15.389957</td>\n",
       "      <td>1.373000</td>\n",
       "      <td>...</td>\n",
       "      <td>340.829579</td>\n",
       "      <td>0.340830</td>\n",
       "      <td>Gaseous</td>\n",
       "      <td>False</td>\n",
       "      <td>False</td>\n",
       "      <td>False</td>\n",
       "      <td>False</td>\n",
       "      <td>True</td>\n",
       "      <td>True</td>\n",
       "      <td>2</td>\n",
       "    </tr>\n",
       "  </tbody>\n",
       "</table>\n",
       "<p>197 rows × 32 columns</p>\n",
       "</div>"
      ],
      "text/plain": [
       "                pl_name        hostname  default_flag  sy_snum  sy_pnum  \\\n",
       "500    EPIC 220674823 c  EPIC 220674823             1        1        2   \n",
       "512    EPIC 249893012 b  EPIC 249893012             1        1        3   \n",
       "513    EPIC 249893012 c  EPIC 249893012             1        1        3   \n",
       "514    EPIC 249893012 d  EPIC 249893012             1        1        3   \n",
       "535           GJ 1132 b         GJ 1132             1        1        2   \n",
       "...                 ...             ...           ...      ...      ...   \n",
       "37781         WASP-19 b         WASP-19             1        1        1   \n",
       "37791        WASP-193 b        WASP-193             1        1        1   \n",
       "38369         WASP-76 b         WASP-76             0        2        1   \n",
       "38373       WASP-77 A b       WASP-77 A             0        2        1   \n",
       "38653            XO-7 b            XO-7             1        1        1   \n",
       "\n",
       "       pl_controv_flag  pl_orbper  pl_orbsmax    pl_rade   pl_radj  ...  \\\n",
       "500                  0  13.339890     0.10730   2.840000  0.253368  ...   \n",
       "512                  0   3.595100     0.04700   1.950000  0.173967  ...   \n",
       "513                  0  15.624000     0.13000   3.670000  0.327415  ...   \n",
       "514                  0  35.747000     0.22000   3.940000  0.351503  ...   \n",
       "535                  0   1.628929     0.01570   1.191515  0.106300  ...   \n",
       "...                ...        ...         ...        ...       ...  ...   \n",
       "37781                0   0.788839     0.01652  15.860708  1.415000  ...   \n",
       "37791                0   6.246334     0.06760  16.409948  1.464000  ...   \n",
       "38369                0   1.809882     0.03304  20.680569  1.845000  ...   \n",
       "38373                0   1.360029     0.02335  13.787046  1.230000  ...   \n",
       "38653                0   2.864142     0.04421  15.389957  1.373000  ...   \n",
       "\n",
       "       density_kg_m3  density_g_cm3  planet_type  f_radius  f_mass  \\\n",
       "500      1761.831763       1.761832      Gaseous     False   False   \n",
       "512      6505.978046       6.505978  Terrestrial     False   False   \n",
       "513      1636.214721       1.636215      Gaseous     False   False   \n",
       "514       917.629754       0.917630      Gaseous     False   False   \n",
       "535      5987.296479       5.987296  Terrestrial      True    True   \n",
       "...              ...            ...          ...       ...     ...   \n",
       "37781     506.803039       0.506803      Gaseous     False   False   \n",
       "37791      55.118107       0.055118      Gaseous     False   False   \n",
       "38369     180.283094       0.180283      Gaseous     False   False   \n",
       "38373    1114.610134       1.114610      Gaseous     False   False   \n",
       "38653     340.829579       0.340830      Gaseous     False   False   \n",
       "\n",
       "       f_insolation  f_eq_temp  f_star_teff  f_eccentric  \\\n",
       "500           False      False         True         True   \n",
       "512           False      False         True         True   \n",
       "513           False      False         True         True   \n",
       "514           False      False         True         True   \n",
       "535           False      False        False         True   \n",
       "...             ...        ...          ...          ...   \n",
       "37781         False      False         True         True   \n",
       "37791         False      False         True         True   \n",
       "38369         False      False         True         True   \n",
       "38373         False      False         True         True   \n",
       "38653         False      False         True         True   \n",
       "\n",
       "      Potential Habitability  \n",
       "500                        2  \n",
       "512                        2  \n",
       "513                        2  \n",
       "514                        2  \n",
       "535                        3  \n",
       "...                      ...  \n",
       "37781                      2  \n",
       "37791                      2  \n",
       "38369                      2  \n",
       "38373                      2  \n",
       "38653                      2  \n",
       "\n",
       "[197 rows x 32 columns]"
      ]
     },
     "execution_count": 147,
     "metadata": {},
     "output_type": "execute_result"
    }
   ],
   "source": [
    "df_cleaned"
   ]
  },
  {
   "cell_type": "code",
   "execution_count": 148,
   "id": "fcd50e6c",
   "metadata": {},
   "outputs": [
    {
     "data": {
      "text/plain": [
       "<Axes: xlabel='pl_rade', ylabel='Count'>"
      ]
     },
     "execution_count": 148,
     "metadata": {},
     "output_type": "execute_result"
    },
    {
     "data": {
      "image/png": "[encoded data removed]",
      "text/plain": [
       "<Figure size 640x480 with 1 Axes>"
      ]
     },
     "metadata": {},
     "output_type": "display_data"
    }
   ],
   "source": [
    "sns.histplot(data=df_cleaned,x=\"pl_rade\",hue=\"f_radius\")"
   ]
  },
  {
   "cell_type": "code",
   "execution_count": 149,
   "id": "fb12e69a",
   "metadata": {},
   "outputs": [
    {
     "data": {
      "text/plain": [
       "<Axes: xlabel='pl_bmasse', ylabel='Count'>"
      ]
     },
     "execution_count": 149,
     "metadata": {},
     "output_type": "execute_result"
    },
    {
     "data": {
      "image/png": "[encoded data removed]",
      "text/plain": [
       "<Figure size 640x480 with 1 Axes>"
      ]
     },
     "metadata": {},
     "output_type": "display_data"
    }
   ],
   "source": [
    "sns.histplot(data=df_cleaned,x=\"pl_bmasse\",hue=\"f_mass\")"
   ]
  },
  {
   "cell_type": "code",
   "execution_count": 150,
   "id": "0f8e9fd6",
   "metadata": {},
   "outputs": [
    {
     "data": {
      "text/plain": [
       "<Axes: xlabel='pl_insol', ylabel='Count'>"
      ]
     },
     "execution_count": 150,
     "metadata": {},
     "output_type": "execute_result"
    },
    {
     "data": {
      "image/png": "[encoded data removed]",
      "text/plain": [
       "<Figure size 640x480 with 1 Axes>"
      ]
     },
     "metadata": {},
     "output_type": "display_data"
    }
   ],
   "source": [
    "sns.histplot(data=df_cleaned,x=\"pl_insol\",hue=\"f_insolation\")"
   ]
  },
  {
   "cell_type": "code",
   "execution_count": 151,
   "id": "b4ef4175",
   "metadata": {},
   "outputs": [
    {
     "data": {
      "text/plain": [
       "<Axes: xlabel='pl_eqt', ylabel='Count'>"
      ]
     },
     "execution_count": 151,
     "metadata": {},
     "output_type": "execute_result"
    },
    {
     "data": {
      "image/png": "[encoded data removed]",
      "text/plain": [
       "<Figure size 640x480 with 1 Axes>"
      ]
     },
     "metadata": {},
     "output_type": "display_data"
    }
   ],
   "source": [
    "sns.histplot(data=df_cleaned,x=\"pl_eqt\",hue=\"f_eq_temp\")"
   ]
  },
  {
   "cell_type": "code",
   "execution_count": 152,
   "id": "fde93206",
   "metadata": {},
   "outputs": [
    {
     "data": {
      "text/plain": [
       "<Axes: xlabel='st_teff', ylabel='Count'>"
      ]
     },
     "execution_count": 152,
     "metadata": {},
     "output_type": "execute_result"
    },
    {
     "data": {
      "image/png": "[encoded data removed]",
      "text/plain": [
       "<Figure size 640x480 with 1 Axes>"
      ]
     },
     "metadata": {},
     "output_type": "display_data"
    }
   ],
   "source": [
    "sns.histplot(data=df_cleaned,x=\"st_teff\",hue=\"f_star_teff\")"
   ]
  },
  {
   "cell_type": "code",
   "execution_count": 153,
   "id": "a4d2cdfe",
   "metadata": {},
   "outputs": [
    {
     "data": {
      "text/html": [
       "<div>\n",
       "<style scoped>\n",
       "    .dataframe tbody tr th:only-of-type {\n",
       "        vertical-align: middle;\n",
       "    }\n",
       "\n",
       "    .dataframe tbody tr th {\n",
       "        vertical-align: top;\n",
       "    }\n",
       "\n",
       "    .dataframe thead th {\n",
       "        text-align: right;\n",
       "    }\n",
       "</style>\n",
       "<table border=\"1\" class=\"dataframe\">\n",
       "  <thead>\n",
       "    <tr style=\"text-align: right;\">\n",
       "      <th></th>\n",
       "      <th>pl_name</th>\n",
       "      <th>hostname</th>\n",
       "      <th>default_flag</th>\n",
       "      <th>sy_snum</th>\n",
       "      <th>sy_pnum</th>\n",
       "      <th>pl_controv_flag</th>\n",
       "      <th>pl_orbper</th>\n",
       "      <th>pl_orbsmax</th>\n",
       "      <th>pl_rade</th>\n",
       "      <th>pl_radj</th>\n",
       "      <th>...</th>\n",
       "      <th>density_kg_m3</th>\n",
       "      <th>density_g_cm3</th>\n",
       "      <th>planet_type</th>\n",
       "      <th>f_radius</th>\n",
       "      <th>f_mass</th>\n",
       "      <th>f_insolation</th>\n",
       "      <th>f_eq_temp</th>\n",
       "      <th>f_star_teff</th>\n",
       "      <th>f_eccentric</th>\n",
       "      <th>Potential Habitability</th>\n",
       "    </tr>\n",
       "  </thead>\n",
       "  <tbody>\n",
       "    <tr>\n",
       "      <th>500</th>\n",
       "      <td>EPIC 220674823 c</td>\n",
       "      <td>EPIC 220674823</td>\n",
       "      <td>1</td>\n",
       "      <td>1</td>\n",
       "      <td>2</td>\n",
       "      <td>0</td>\n",
       "      <td>13.339890</td>\n",
       "      <td>0.1073</td>\n",
       "      <td>2.840000</td>\n",
       "      <td>0.253368</td>\n",
       "      <td>...</td>\n",
       "      <td>1761.831763</td>\n",
       "      <td>1.761832</td>\n",
       "      <td>Gaseous</td>\n",
       "      <td>False</td>\n",
       "      <td>False</td>\n",
       "      <td>False</td>\n",
       "      <td>False</td>\n",
       "      <td>True</td>\n",
       "      <td>True</td>\n",
       "      <td>2</td>\n",
       "    </tr>\n",
       "    <tr>\n",
       "      <th>512</th>\n",
       "      <td>EPIC 249893012 b</td>\n",
       "      <td>EPIC 249893012</td>\n",
       "      <td>1</td>\n",
       "      <td>1</td>\n",
       "      <td>3</td>\n",
       "      <td>0</td>\n",
       "      <td>3.595100</td>\n",
       "      <td>0.0470</td>\n",
       "      <td>1.950000</td>\n",
       "      <td>0.173967</td>\n",
       "      <td>...</td>\n",
       "      <td>6505.978046</td>\n",
       "      <td>6.505978</td>\n",
       "      <td>Terrestrial</td>\n",
       "      <td>False</td>\n",
       "      <td>False</td>\n",
       "      <td>False</td>\n",
       "      <td>False</td>\n",
       "      <td>True</td>\n",
       "      <td>True</td>\n",
       "      <td>2</td>\n",
       "    </tr>\n",
       "    <tr>\n",
       "      <th>513</th>\n",
       "      <td>EPIC 249893012 c</td>\n",
       "      <td>EPIC 249893012</td>\n",
       "      <td>1</td>\n",
       "      <td>1</td>\n",
       "      <td>3</td>\n",
       "      <td>0</td>\n",
       "      <td>15.624000</td>\n",
       "      <td>0.1300</td>\n",
       "      <td>3.670000</td>\n",
       "      <td>0.327415</td>\n",
       "      <td>...</td>\n",
       "      <td>1636.214721</td>\n",
       "      <td>1.636215</td>\n",
       "      <td>Gaseous</td>\n",
       "      <td>False</td>\n",
       "      <td>False</td>\n",
       "      <td>False</td>\n",
       "      <td>False</td>\n",
       "      <td>True</td>\n",
       "      <td>True</td>\n",
       "      <td>2</td>\n",
       "    </tr>\n",
       "    <tr>\n",
       "      <th>514</th>\n",
       "      <td>EPIC 249893012 d</td>\n",
       "      <td>EPIC 249893012</td>\n",
       "      <td>1</td>\n",
       "      <td>1</td>\n",
       "      <td>3</td>\n",
       "      <td>0</td>\n",
       "      <td>35.747000</td>\n",
       "      <td>0.2200</td>\n",
       "      <td>3.940000</td>\n",
       "      <td>0.351503</td>\n",
       "      <td>...</td>\n",
       "      <td>917.629754</td>\n",
       "      <td>0.917630</td>\n",
       "      <td>Gaseous</td>\n",
       "      <td>False</td>\n",
       "      <td>False</td>\n",
       "      <td>False</td>\n",
       "      <td>False</td>\n",
       "      <td>True</td>\n",
       "      <td>True</td>\n",
       "      <td>2</td>\n",
       "    </tr>\n",
       "    <tr>\n",
       "      <th>535</th>\n",
       "      <td>GJ 1132 b</td>\n",
       "      <td>GJ 1132</td>\n",
       "      <td>1</td>\n",
       "      <td>1</td>\n",
       "      <td>2</td>\n",
       "      <td>0</td>\n",
       "      <td>1.628929</td>\n",
       "      <td>0.0157</td>\n",
       "      <td>1.191515</td>\n",
       "      <td>0.106300</td>\n",
       "      <td>...</td>\n",
       "      <td>5987.296479</td>\n",
       "      <td>5.987296</td>\n",
       "      <td>Terrestrial</td>\n",
       "      <td>True</td>\n",
       "      <td>True</td>\n",
       "      <td>False</td>\n",
       "      <td>False</td>\n",
       "      <td>False</td>\n",
       "      <td>True</td>\n",
       "      <td>3</td>\n",
       "    </tr>\n",
       "  </tbody>\n",
       "</table>\n",
       "<p>5 rows × 32 columns</p>\n",
       "</div>"
      ],
      "text/plain": [
       "              pl_name        hostname  default_flag  sy_snum  sy_pnum  \\\n",
       "500  EPIC 220674823 c  EPIC 220674823             1        1        2   \n",
       "512  EPIC 249893012 b  EPIC 249893012             1        1        3   \n",
       "513  EPIC 249893012 c  EPIC 249893012             1        1        3   \n",
       "514  EPIC 249893012 d  EPIC 249893012             1        1        3   \n",
       "535         GJ 1132 b         GJ 1132             1        1        2   \n",
       "\n",
       "     pl_controv_flag  pl_orbper  pl_orbsmax   pl_rade   pl_radj  ...  \\\n",
       "500                0  13.339890      0.1073  2.840000  0.253368  ...   \n",
       "512                0   3.595100      0.0470  1.950000  0.173967  ...   \n",
       "513                0  15.624000      0.1300  3.670000  0.327415  ...   \n",
       "514                0  35.747000      0.2200  3.940000  0.351503  ...   \n",
       "535                0   1.628929      0.0157  1.191515  0.106300  ...   \n",
       "\n",
       "     density_kg_m3  density_g_cm3  planet_type  f_radius  f_mass  \\\n",
       "500    1761.831763       1.761832      Gaseous     False   False   \n",
       "512    6505.978046       6.505978  Terrestrial     False   False   \n",
       "513    1636.214721       1.636215      Gaseous     False   False   \n",
       "514     917.629754       0.917630      Gaseous     False   False   \n",
       "535    5987.296479       5.987296  Terrestrial      True    True   \n",
       "\n",
       "     f_insolation  f_eq_temp  f_star_teff  f_eccentric Potential Habitability  \n",
       "500         False      False         True         True                      2  \n",
       "512         False      False         True         True                      2  \n",
       "513         False      False         True         True                      2  \n",
       "514         False      False         True         True                      2  \n",
       "535         False      False        False         True                      3  \n",
       "\n",
       "[5 rows x 32 columns]"
      ]
     },
     "execution_count": 153,
     "metadata": {},
     "output_type": "execute_result"
    }
   ],
   "source": [
    "df_cleaned.head()"
   ]
  },
  {
   "cell_type": "code",
   "execution_count": 154,
   "id": "4f16e1a0",
   "metadata": {},
   "outputs": [
    {
     "data": {
      "text/plain": [
       "<Axes: xlabel='pl_orbeccen', ylabel='Count'>"
      ]
     },
     "execution_count": 154,
     "metadata": {},
     "output_type": "execute_result"
    },
    {
     "data": {
      "image/png": "[encoded data removed]",
      "text/plain": [
       "<Figure size 640x480 with 1 Axes>"
      ]
     },
     "metadata": {},
     "output_type": "display_data"
    }
   ],
   "source": [
    "sns.histplot(data=df_cleaned,x=\"pl_orbeccen\",hue=\"f_eccentric\")"
   ]
  },
  {
   "cell_type": "code",
   "execution_count": null,
   "id": "04e1b557",
   "metadata": {},
   "outputs": [
    {
     "data": {
      "text/html": [
       "<div>\n",
       "<style scoped>\n",
       "    .dataframe tbody tr th:only-of-type {\n",
       "        vertical-align: middle;\n",
       "    }\n",
       "\n",
       "    .dataframe tbody tr th {\n",
       "        vertical-align: top;\n",
       "    }\n",
       "\n",
       "    .dataframe thead th {\n",
       "        text-align: right;\n",
       "    }\n",
       "</style>\n",
       "<table border=\"1\" class=\"dataframe\">\n",
       "  <thead>\n",
       "    <tr style=\"text-align: right;\">\n",
       "      <th></th>\n",
       "      <th>pl_name</th>\n",
       "      <th>hostname</th>\n",
       "      <th>default_flag</th>\n",
       "      <th>sy_snum</th>\n",
       "      <th>sy_pnum</th>\n",
       "      <th>pl_controv_flag</th>\n",
       "      <th>pl_orbper</th>\n",
       "      <th>pl_orbsmax</th>\n",
       "      <th>pl_rade</th>\n",
       "      <th>pl_radj</th>\n",
       "      <th>...</th>\n",
       "      <th>density_kg_m3</th>\n",
       "      <th>density_g_cm3</th>\n",
       "      <th>planet_type</th>\n",
       "      <th>f_radius</th>\n",
       "      <th>f_mass</th>\n",
       "      <th>f_insolation</th>\n",
       "      <th>f_eq_temp</th>\n",
       "      <th>f_star_teff</th>\n",
       "      <th>f_eccentric</th>\n",
       "      <th>Potential Habitability</th>\n",
       "    </tr>\n",
       "  </thead>\n",
       "  <tbody>\n",
       "    <tr>\n",
       "      <th>500</th>\n",
       "      <td>EPIC 220674823 c</td>\n",
       "      <td>EPIC 220674823</td>\n",
       "      <td>1</td>\n",
       "      <td>1</td>\n",
       "      <td>2</td>\n",
       "      <td>0</td>\n",
       "      <td>13.33989</td>\n",
       "      <td>0.1073</td>\n",
       "      <td>2.84</td>\n",
       "      <td>0.253368</td>\n",
       "      <td>...</td>\n",
       "      <td>1761.831763</td>\n",
       "      <td>1.761832</td>\n",
       "      <td>Gaseous</td>\n",
       "      <td>False</td>\n",
       "      <td>False</td>\n",
       "      <td>False</td>\n",
       "      <td>False</td>\n",
       "      <td>True</td>\n",
       "      <td>True</td>\n",
       "      <td>2</td>\n",
       "    </tr>\n",
       "  </tbody>\n",
       "</table>\n",
       "<p>1 rows × 32 columns</p>\n",
       "</div>"
      ],
      "text/plain": [
       "              pl_name        hostname  default_flag  sy_snum  sy_pnum  \\\n",
       "500  EPIC 220674823 c  EPIC 220674823             1        1        2   \n",
       "\n",
       "     pl_controv_flag  pl_orbper  pl_orbsmax  pl_rade   pl_radj  ...  \\\n",
       "500                0   13.33989      0.1073     2.84  0.253368  ...   \n",
       "\n",
       "     density_kg_m3  density_g_cm3  planet_type  f_radius  f_mass  \\\n",
       "500    1761.831763       1.761832      Gaseous     False   False   \n",
       "\n",
       "     f_insolation  f_eq_temp  f_star_teff  f_eccentric Potential Habitability  \n",
       "500         False      False         True         True                      2  \n",
       "\n",
       "[1 rows x 32 columns]"
      ]
     },
     "execution_count": 94,
     "metadata": {},
     "output_type": "execute_result"
    }
   ],
   "source": [
    "df_cleaned.head(1)"
   ]
  },
  {
   "cell_type": "code",
   "execution_count": null,
   "id": "59325142",
   "metadata": {},
   "outputs": [
    {
     "name": "stdout",
     "output_type": "stream",
     "text": [
      "GJ 367 b\n",
      "HD 136352 b\n",
      "HD 219134 c\n",
      "HD 23472 d\n",
      "HD 23472 e\n",
      "HD 23472 f\n",
      "HD 260655 b\n",
      "HD 260655 c\n",
      "K2-266 c\n",
      "K2-3 c\n",
      "Kepler-138 c\n",
      "Kepler-138 d\n",
      "TOI-1266 c\n",
      "TOI-500 b\n"
     ]
    }
   ],
   "source": [
    "for idx, row in df_cleaned.iterrows():\n",
    "    if row[\"Potential Habitability\"] >= 4:\n",
    "        print(row[\"pl_name\"])"
   ]
  },
  {
   "cell_type": "code",
   "execution_count": null,
   "id": "c6490535",
   "metadata": {},
   "outputs": [],
   "source": [
    "\n",
    "from sklearn.preprocessing import StandardScaler\n",
    "\n",
    "\n",
    "# --- 1) Set up columns and Earth reference (matching your labels) ---\n",
    "cols = [\"pl_rade\",\"pl_bmasse\",\"pl_insol\",\"pl_eqt\",\"st_teff\",\"pl_orbeccen\"]\n",
    "earth = {\n",
    "    \"pl_rade\": 1.0,          # Earth radii\n",
    "    \"pl_bmasse\": 1.0,        # Earth masses\n",
    "    \"pl_insol\": 1.0,         # Earth = 1 S_earth\n",
    "    \"pl_eqt\": 255.0,         # K (equilibrium temp)\n",
    "    \"st_teff\": 5772.0,       # K (Sun)\n",
    "    \"pl_orbeccen\": 0.0167,   # Earth's orbital eccentricity\n",
    "}\n",
    "\n",
    "# --- 2) Build matrix X and fit scaler on rows that have all six values ---\n",
    "mask = df_cleaned[cols].notna().all(axis=1)\n",
    "X = df_cleaned.loc[mask, cols].astype(float).values\n",
    "\n",
    "scaler = StandardScaler().fit(X)\n",
    "Xz = scaler.transform(X)\n",
    "\n",
    "# Earth vector standardized with the SAME scaler (so they’re comparable)\n",
    "earth_vec = np.array([[earth[c] for c in cols]])\n",
    "earth_z = scaler.transform(earth_vec)[0]\n",
    "\n",
    "# --- 3) Distance to Earth in z-score space (Euclidean) ---\n",
    "dist = np.sqrt(((Xz - earth_z)**2).sum(axis=1))\n",
    "\n",
    "# Put distances back into the dataframe (NaN where features were missing)\n",
    "df_cleaned[\"dist_earth_z\"] = np.nan\n",
    "df_cleaned.loc[mask, \"dist_earth_z\"] = dist\n"
   ]
  },
  {
   "cell_type": "code",
   "execution_count": null,
   "id": "1dcc674c",
   "metadata": {},
   "outputs": [
    {
     "data": {
      "image/png": "[encoded data removed]",
      "text/plain": [
       "<Figure size 800x100 with 1 Axes>"
      ]
     },
     "metadata": {},
     "output_type": "display_data"
    }
   ],
   "source": [
    "import matplotlib.pyplot as plt\n",
    "\n",
    "plt.figure(figsize=(8,1))\n",
    "plt.scatter(df_cleaned[\"dist_earth_z\"], [0]*len(df_cleaned),\n",
    "            alpha=0.7, edgecolor=\"k\")\n",
    "\n",
    "plt.xlabel(\"Combined 6-Feature Distance from Earth (z-space)\")\n",
    "plt.yticks([])               # hide y-axis for a 1-D look\n",
    "plt.title(\"Planets vs. Total 6-Feature Distance from Earth\")\n",
    "\n",
    "# highlight Earth\n",
    "plt.scatter([0], [0], color=\"red\", s=100, label=\"Earth\")\n",
    "plt.legend()\n",
    "plt.show()"
   ]
  }
 ],
 "metadata": {
  "kernelspec": {
   "display_name": "Python 3",
   "language": "python",
   "name": "python3"
  },
  "language_info": {
   "codemirror_mode": {
    "name": "ipython",
    "version": 3
   },
   "file_extension": ".py",
   "mimetype": "text/x-python",
   "name": "python",
   "nbconvert_exporter": "python",
   "pygments_lexer": "ipython3",
   "version": "3.13.7"
  }
 },
 "nbformat": 4,
 "nbformat_minor": 5
}

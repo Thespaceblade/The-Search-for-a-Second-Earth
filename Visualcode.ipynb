{
 "cells": [
  {
   "cell_type": "code",
   "execution_count": 2,
   "id": "fa20008a",
   "metadata": {},
   "outputs": [],
   "source": [
    "import pandas as pd\n",
    "import numpy as np\n",
    "import seaborn as sns\n",
    "import matplotlib.pyplot as plt"
   ]
  },
  {
   "cell_type": "code",
   "execution_count": 3,
   "id": "28aec052",
   "metadata": {},
   "outputs": [
    {
     "ename": "FileNotFoundError",
     "evalue": "[Errno 2] No such file or directory: 'rawdata.csv'",
     "output_type": "error",
     "traceback": [
      "\u001b[31m---------------------------------------------------------------------------\u001b[39m",
      "\u001b[31mFileNotFoundError\u001b[39m                         Traceback (most recent call last)",
      "\u001b[36mCell\u001b[39m\u001b[36m \u001b[39m\u001b[32mIn[3]\u001b[39m\u001b[32m, line 2\u001b[39m\n\u001b[32m      1\u001b[39m \u001b[38;5;66;03m# Read Data\u001b[39;00m\n\u001b[32m----> \u001b[39m\u001b[32m2\u001b[39m df = \u001b[43mpd\u001b[49m\u001b[43m.\u001b[49m\u001b[43mread_csv\u001b[49m\u001b[43m(\u001b[49m\u001b[33;43m'\u001b[39;49m\u001b[33;43mrawdata.csv\u001b[39;49m\u001b[33;43m'\u001b[39;49m\u001b[43m)\u001b[49m\n\u001b[32m      4\u001b[39m \u001b[38;5;66;03m# Clean Data\u001b[39;00m\n\u001b[32m      5\u001b[39m df_cleaned = df.drop_duplicates()\n",
      "\u001b[36mFile \u001b[39m\u001b[32m~\\AppData\\Local\\Packages\\PythonSoftwareFoundation.Python.3.13_qbz5n2kfra8p0\\LocalCache\\local-packages\\Python313\\site-packages\\pandas\\io\\parsers\\readers.py:1026\u001b[39m, in \u001b[36mread_csv\u001b[39m\u001b[34m(filepath_or_buffer, sep, delimiter, header, names, index_col, usecols, dtype, engine, converters, true_values, false_values, skipinitialspace, skiprows, skipfooter, nrows, na_values, keep_default_na, na_filter, verbose, skip_blank_lines, parse_dates, infer_datetime_format, keep_date_col, date_parser, date_format, dayfirst, cache_dates, iterator, chunksize, compression, thousands, decimal, lineterminator, quotechar, quoting, doublequote, escapechar, comment, encoding, encoding_errors, dialect, on_bad_lines, delim_whitespace, low_memory, memory_map, float_precision, storage_options, dtype_backend)\u001b[39m\n\u001b[32m   1013\u001b[39m kwds_defaults = _refine_defaults_read(\n\u001b[32m   1014\u001b[39m     dialect,\n\u001b[32m   1015\u001b[39m     delimiter,\n\u001b[32m   (...)\u001b[39m\u001b[32m   1022\u001b[39m     dtype_backend=dtype_backend,\n\u001b[32m   1023\u001b[39m )\n\u001b[32m   1024\u001b[39m kwds.update(kwds_defaults)\n\u001b[32m-> \u001b[39m\u001b[32m1026\u001b[39m \u001b[38;5;28;01mreturn\u001b[39;00m \u001b[43m_read\u001b[49m\u001b[43m(\u001b[49m\u001b[43mfilepath_or_buffer\u001b[49m\u001b[43m,\u001b[49m\u001b[43m \u001b[49m\u001b[43mkwds\u001b[49m\u001b[43m)\u001b[49m\n",
      "\u001b[36mFile \u001b[39m\u001b[32m~\\AppData\\Local\\Packages\\PythonSoftwareFoundation.Python.3.13_qbz5n2kfra8p0\\LocalCache\\local-packages\\Python313\\site-packages\\pandas\\io\\parsers\\readers.py:620\u001b[39m, in \u001b[36m_read\u001b[39m\u001b[34m(filepath_or_buffer, kwds)\u001b[39m\n\u001b[32m    617\u001b[39m _validate_names(kwds.get(\u001b[33m\"\u001b[39m\u001b[33mnames\u001b[39m\u001b[33m\"\u001b[39m, \u001b[38;5;28;01mNone\u001b[39;00m))\n\u001b[32m    619\u001b[39m \u001b[38;5;66;03m# Create the parser.\u001b[39;00m\n\u001b[32m--> \u001b[39m\u001b[32m620\u001b[39m parser = \u001b[43mTextFileReader\u001b[49m\u001b[43m(\u001b[49m\u001b[43mfilepath_or_buffer\u001b[49m\u001b[43m,\u001b[49m\u001b[43m \u001b[49m\u001b[43m*\u001b[49m\u001b[43m*\u001b[49m\u001b[43mkwds\u001b[49m\u001b[43m)\u001b[49m\n\u001b[32m    622\u001b[39m \u001b[38;5;28;01mif\u001b[39;00m chunksize \u001b[38;5;129;01mor\u001b[39;00m iterator:\n\u001b[32m    623\u001b[39m     \u001b[38;5;28;01mreturn\u001b[39;00m parser\n",
      "\u001b[36mFile \u001b[39m\u001b[32m~\\AppData\\Local\\Packages\\PythonSoftwareFoundation.Python.3.13_qbz5n2kfra8p0\\LocalCache\\local-packages\\Python313\\site-packages\\pandas\\io\\parsers\\readers.py:1620\u001b[39m, in \u001b[36mTextFileReader.__init__\u001b[39m\u001b[34m(self, f, engine, **kwds)\u001b[39m\n\u001b[32m   1617\u001b[39m     \u001b[38;5;28mself\u001b[39m.options[\u001b[33m\"\u001b[39m\u001b[33mhas_index_names\u001b[39m\u001b[33m\"\u001b[39m] = kwds[\u001b[33m\"\u001b[39m\u001b[33mhas_index_names\u001b[39m\u001b[33m\"\u001b[39m]\n\u001b[32m   1619\u001b[39m \u001b[38;5;28mself\u001b[39m.handles: IOHandles | \u001b[38;5;28;01mNone\u001b[39;00m = \u001b[38;5;28;01mNone\u001b[39;00m\n\u001b[32m-> \u001b[39m\u001b[32m1620\u001b[39m \u001b[38;5;28mself\u001b[39m._engine = \u001b[38;5;28;43mself\u001b[39;49m\u001b[43m.\u001b[49m\u001b[43m_make_engine\u001b[49m\u001b[43m(\u001b[49m\u001b[43mf\u001b[49m\u001b[43m,\u001b[49m\u001b[43m \u001b[49m\u001b[38;5;28;43mself\u001b[39;49m\u001b[43m.\u001b[49m\u001b[43mengine\u001b[49m\u001b[43m)\u001b[49m\n",
      "\u001b[36mFile \u001b[39m\u001b[32m~\\AppData\\Local\\Packages\\PythonSoftwareFoundation.Python.3.13_qbz5n2kfra8p0\\LocalCache\\local-packages\\Python313\\site-packages\\pandas\\io\\parsers\\readers.py:1880\u001b[39m, in \u001b[36mTextFileReader._make_engine\u001b[39m\u001b[34m(self, f, engine)\u001b[39m\n\u001b[32m   1878\u001b[39m     \u001b[38;5;28;01mif\u001b[39;00m \u001b[33m\"\u001b[39m\u001b[33mb\u001b[39m\u001b[33m\"\u001b[39m \u001b[38;5;129;01mnot\u001b[39;00m \u001b[38;5;129;01min\u001b[39;00m mode:\n\u001b[32m   1879\u001b[39m         mode += \u001b[33m\"\u001b[39m\u001b[33mb\u001b[39m\u001b[33m\"\u001b[39m\n\u001b[32m-> \u001b[39m\u001b[32m1880\u001b[39m \u001b[38;5;28mself\u001b[39m.handles = \u001b[43mget_handle\u001b[49m\u001b[43m(\u001b[49m\n\u001b[32m   1881\u001b[39m \u001b[43m    \u001b[49m\u001b[43mf\u001b[49m\u001b[43m,\u001b[49m\n\u001b[32m   1882\u001b[39m \u001b[43m    \u001b[49m\u001b[43mmode\u001b[49m\u001b[43m,\u001b[49m\n\u001b[32m   1883\u001b[39m \u001b[43m    \u001b[49m\u001b[43mencoding\u001b[49m\u001b[43m=\u001b[49m\u001b[38;5;28;43mself\u001b[39;49m\u001b[43m.\u001b[49m\u001b[43moptions\u001b[49m\u001b[43m.\u001b[49m\u001b[43mget\u001b[49m\u001b[43m(\u001b[49m\u001b[33;43m\"\u001b[39;49m\u001b[33;43mencoding\u001b[39;49m\u001b[33;43m\"\u001b[39;49m\u001b[43m,\u001b[49m\u001b[43m \u001b[49m\u001b[38;5;28;43;01mNone\u001b[39;49;00m\u001b[43m)\u001b[49m\u001b[43m,\u001b[49m\n\u001b[32m   1884\u001b[39m \u001b[43m    \u001b[49m\u001b[43mcompression\u001b[49m\u001b[43m=\u001b[49m\u001b[38;5;28;43mself\u001b[39;49m\u001b[43m.\u001b[49m\u001b[43moptions\u001b[49m\u001b[43m.\u001b[49m\u001b[43mget\u001b[49m\u001b[43m(\u001b[49m\u001b[33;43m\"\u001b[39;49m\u001b[33;43mcompression\u001b[39;49m\u001b[33;43m\"\u001b[39;49m\u001b[43m,\u001b[49m\u001b[43m \u001b[49m\u001b[38;5;28;43;01mNone\u001b[39;49;00m\u001b[43m)\u001b[49m\u001b[43m,\u001b[49m\n\u001b[32m   1885\u001b[39m \u001b[43m    \u001b[49m\u001b[43mmemory_map\u001b[49m\u001b[43m=\u001b[49m\u001b[38;5;28;43mself\u001b[39;49m\u001b[43m.\u001b[49m\u001b[43moptions\u001b[49m\u001b[43m.\u001b[49m\u001b[43mget\u001b[49m\u001b[43m(\u001b[49m\u001b[33;43m\"\u001b[39;49m\u001b[33;43mmemory_map\u001b[39;49m\u001b[33;43m\"\u001b[39;49m\u001b[43m,\u001b[49m\u001b[43m \u001b[49m\u001b[38;5;28;43;01mFalse\u001b[39;49;00m\u001b[43m)\u001b[49m\u001b[43m,\u001b[49m\n\u001b[32m   1886\u001b[39m \u001b[43m    \u001b[49m\u001b[43mis_text\u001b[49m\u001b[43m=\u001b[49m\u001b[43mis_text\u001b[49m\u001b[43m,\u001b[49m\n\u001b[32m   1887\u001b[39m \u001b[43m    \u001b[49m\u001b[43merrors\u001b[49m\u001b[43m=\u001b[49m\u001b[38;5;28;43mself\u001b[39;49m\u001b[43m.\u001b[49m\u001b[43moptions\u001b[49m\u001b[43m.\u001b[49m\u001b[43mget\u001b[49m\u001b[43m(\u001b[49m\u001b[33;43m\"\u001b[39;49m\u001b[33;43mencoding_errors\u001b[39;49m\u001b[33;43m\"\u001b[39;49m\u001b[43m,\u001b[49m\u001b[43m \u001b[49m\u001b[33;43m\"\u001b[39;49m\u001b[33;43mstrict\u001b[39;49m\u001b[33;43m\"\u001b[39;49m\u001b[43m)\u001b[49m\u001b[43m,\u001b[49m\n\u001b[32m   1888\u001b[39m \u001b[43m    \u001b[49m\u001b[43mstorage_options\u001b[49m\u001b[43m=\u001b[49m\u001b[38;5;28;43mself\u001b[39;49m\u001b[43m.\u001b[49m\u001b[43moptions\u001b[49m\u001b[43m.\u001b[49m\u001b[43mget\u001b[49m\u001b[43m(\u001b[49m\u001b[33;43m\"\u001b[39;49m\u001b[33;43mstorage_options\u001b[39;49m\u001b[33;43m\"\u001b[39;49m\u001b[43m,\u001b[49m\u001b[43m \u001b[49m\u001b[38;5;28;43;01mNone\u001b[39;49;00m\u001b[43m)\u001b[49m\u001b[43m,\u001b[49m\n\u001b[32m   1889\u001b[39m \u001b[43m\u001b[49m\u001b[43m)\u001b[49m\n\u001b[32m   1890\u001b[39m \u001b[38;5;28;01massert\u001b[39;00m \u001b[38;5;28mself\u001b[39m.handles \u001b[38;5;129;01mis\u001b[39;00m \u001b[38;5;129;01mnot\u001b[39;00m \u001b[38;5;28;01mNone\u001b[39;00m\n\u001b[32m   1891\u001b[39m f = \u001b[38;5;28mself\u001b[39m.handles.handle\n",
      "\u001b[36mFile \u001b[39m\u001b[32m~\\AppData\\Local\\Packages\\PythonSoftwareFoundation.Python.3.13_qbz5n2kfra8p0\\LocalCache\\local-packages\\Python313\\site-packages\\pandas\\io\\common.py:873\u001b[39m, in \u001b[36mget_handle\u001b[39m\u001b[34m(path_or_buf, mode, encoding, compression, memory_map, is_text, errors, storage_options)\u001b[39m\n\u001b[32m    868\u001b[39m \u001b[38;5;28;01melif\u001b[39;00m \u001b[38;5;28misinstance\u001b[39m(handle, \u001b[38;5;28mstr\u001b[39m):\n\u001b[32m    869\u001b[39m     \u001b[38;5;66;03m# Check whether the filename is to be opened in binary mode.\u001b[39;00m\n\u001b[32m    870\u001b[39m     \u001b[38;5;66;03m# Binary mode does not support 'encoding' and 'newline'.\u001b[39;00m\n\u001b[32m    871\u001b[39m     \u001b[38;5;28;01mif\u001b[39;00m ioargs.encoding \u001b[38;5;129;01mand\u001b[39;00m \u001b[33m\"\u001b[39m\u001b[33mb\u001b[39m\u001b[33m\"\u001b[39m \u001b[38;5;129;01mnot\u001b[39;00m \u001b[38;5;129;01min\u001b[39;00m ioargs.mode:\n\u001b[32m    872\u001b[39m         \u001b[38;5;66;03m# Encoding\u001b[39;00m\n\u001b[32m--> \u001b[39m\u001b[32m873\u001b[39m         handle = \u001b[38;5;28;43mopen\u001b[39;49m\u001b[43m(\u001b[49m\n\u001b[32m    874\u001b[39m \u001b[43m            \u001b[49m\u001b[43mhandle\u001b[49m\u001b[43m,\u001b[49m\n\u001b[32m    875\u001b[39m \u001b[43m            \u001b[49m\u001b[43mioargs\u001b[49m\u001b[43m.\u001b[49m\u001b[43mmode\u001b[49m\u001b[43m,\u001b[49m\n\u001b[32m    876\u001b[39m \u001b[43m            \u001b[49m\u001b[43mencoding\u001b[49m\u001b[43m=\u001b[49m\u001b[43mioargs\u001b[49m\u001b[43m.\u001b[49m\u001b[43mencoding\u001b[49m\u001b[43m,\u001b[49m\n\u001b[32m    877\u001b[39m \u001b[43m            \u001b[49m\u001b[43merrors\u001b[49m\u001b[43m=\u001b[49m\u001b[43merrors\u001b[49m\u001b[43m,\u001b[49m\n\u001b[32m    878\u001b[39m \u001b[43m            \u001b[49m\u001b[43mnewline\u001b[49m\u001b[43m=\u001b[49m\u001b[33;43m\"\u001b[39;49m\u001b[33;43m\"\u001b[39;49m\u001b[43m,\u001b[49m\n\u001b[32m    879\u001b[39m \u001b[43m        \u001b[49m\u001b[43m)\u001b[49m\n\u001b[32m    880\u001b[39m     \u001b[38;5;28;01melse\u001b[39;00m:\n\u001b[32m    881\u001b[39m         \u001b[38;5;66;03m# Binary mode\u001b[39;00m\n\u001b[32m    882\u001b[39m         handle = \u001b[38;5;28mopen\u001b[39m(handle, ioargs.mode)\n",
      "\u001b[31mFileNotFoundError\u001b[39m: [Errno 2] No such file or directory: 'rawdata.csv'"
     ]
    }
   ],
   "source": [
    "# Read Data\n",
    "df = pd.read_csv('rawdata.csv')\n",
    "\n",
    "# Clean Data\n",
    "df_cleaned = df.drop_duplicates()\n",
    "df_cleaned = df.dropna()\n",
    "df_cleaned = df_cleaned.filter(['pl_name', 'hostname', 'default_flag', 'sy_snum', 'sy_pnum',\n",
    "       'pl_controv_flag', 'pl_orbper', 'pl_orbsmax', 'pl_rade', 'pl_radj', 'pl_bmasse', 'pl_bmassj', 'pl_orbeccen', 'pl_insol', 'pl_eqt', 'st_teff', 'st_rad',\n",
    "       'st_mass', 'st_met', 'st_metratio', 'st_logg', 'sy_dist'])"
   ]
  },
  {
   "cell_type": "code",
   "execution_count": null,
   "id": "4c97f8e3",
   "metadata": {},
   "outputs": [],
   "source": [
    "# Calculate Density\n",
    "#OpenAI. (2025). ChatGPT (Sept 20 version) [Large language model].\n",
    "#Retrieved from https://chat.openai.com/\n",
    "EARTH_MASS_KG = 5.972e24\n",
    "EARTH_RADIUS_M = 6.371e6  # meters\n",
    "\n",
    "\n",
    "df_cleaned[\"density_kg_m3\"] = (\n",
    "    df_cleaned[\"pl_bmasse\"] * EARTH_MASS_KG\n",
    "    / ((4/3) * np.pi * (df_cleaned[\"pl_rade\"] * EARTH_RADIUS_M) ** 3)\n",
    ")\n",
    "\n",
    "\n",
    "# If you want g/cm³:\n",
    "df_cleaned[\"density_g_cm3\"] = df_cleaned[\"density_kg_m3\"] / 1000\n",
    "\n",
    "# Calculate Inner Boundary\n",
    "df_cleaned[\"planet_type\"] = np.where(\n",
    "    df_cleaned[\"density_g_cm3\"] >= 3,\n",
    "    \"Terrestrial\",\n",
    "    \"Gaseous\"\n",
    ")\n"
   ]
  },
  {
   "cell_type": "code",
   "execution_count": null,
   "id": "3007564f",
   "metadata": {},
   "outputs": [
    {
     "data": {
      "application/vnd.plotly.v1+json": {
       "config": {
        "plotlyServerURL": "https://plot.ly"
       },
       "data": [
        {
         "bingroup": "x",
         "hovertemplate": "planet_type=Gaseous<br>density_g_cm3=%{x}<br>count=%{y}<extra></extra>",
         "legendgroup": "Gaseous",
         "marker": {
          "color": "#636efa",
          "opacity": 0.5,
          "pattern": {
           "shape": ""
          }
         },
         "name": "Gaseous",
         "nbinsx": 30,
         "orientation": "v",
         "showlegend": true,
         "type": "histogram",
         "x": {
          "bdata": "OT3FgHYw/D9d56Z87y36P/XP4RI5Xe0/5QgFbb0rAkC658rtLf3ePw4jtVJGWuk/kb2jU0Dnuz+Hy04xEKzuP89b8LK7ENY/cLDyDpb+AEAlgcqIkHrmP6HtcwJSSwdArpEEudhp/T+Nh/vDyjsCQDadyTkCmd4/LUA1diY/9j+NEVLgLqP1P6C6OCE8Y+I/rki8fJP11T97qkL9up4HQOKWZksAAAdAd7WtRucaB0D2eARuS9DdP4Cpr626ZAdApQ1SUg23BED/1KuEacwBQF7K6Ivf5u4//fvMyob84T8A98j8j2DYP4TLZLOR0Ns/yPwx7Cg2/z8xuJb7jVD+P74q12JaU+Y/kqmLJ7vb8j+dT1uktXLtPxsZcFUchPE/GM9hciCO9z+5V+31g8sAQM5bk7IrnAVAg2j2jzaTA0C6C4gov5fsP7YmWck/kAdAnkz5u8rf4j/7/8ofxywBQOXAPnWCrOc/G/CXVgJb/j+fF2Zw+tgCQH1VLSdLUOg//fdnoKzpyD96pMoYuO/7P9Qk7Xg5rwRAYHNgKfjY+z/8lUtb19gHQHSTZoWwmuQ/rhlsbxW28j85GACe08byP8g641Oe0QJAxNK/0hLE5z86j8Ftv1fyP27/whujM+g/Zj8i+0NH4T/BJ1BdNH7rP7vflS1vueo/xtAhbVfd9T8sAXaUG2b2PwzX0GINsARAXMcIb9s74z8qztDw4ncDQI7kKCHrhOg/AUGGCfZG1z9eUAeCN97pP2Ie6Epi2+0/2R6144/A4D94Q9Y710TRP/AtkK35HOI/0ppsB5rxyj/kFgI2AEMCQAlYvOAcGv0/Yy8gkKmYAkCbwqhr5YvpP7zI/2Vlmew/7TcIyBsN6z+fHgHX9WrRP91VIsk3bOM/t2lnLa+g5T+SQLiZT50BQCg4TJbmLuE/6NzTrxOE7D8bcwD2umMBQP9x+PZOJPA/MsRb51jOAUB2O/wbaTD7P3zBeOrXbQBApYDi3qX35T84e0GnGMT9Px1lyM95Ouc/74AW4WzZ+j9IPpgdYzLpP64ktSufGOo/+hXWGtKU+T/Gp5IlnFHlP89WtdJxS/M/rwny0/hx+z/xMsCuKwXkP3vTG5tYdeo/p3a/aXVKAkC/ysSsT+/jP1OD4/TvZgRAT3WNUGhn1T9OOrG3sy7hP0IAPT/4ieA/JvzFJBcCBkBSec9hQmfWP0+nCuBVTOc/0N//Abs34D8pazfEcDisP3RvHjSEE8c/Usd0b3HV8T9Ojw7eJtDVPw==",
          "dtype": "f8"
         },
         "xaxis": "x",
         "yaxis": "y"
        },
        {
         "bingroup": "x",
         "hovertemplate": "planet_type=Terrestrial<br>density_g_cm3=%{x}<br>count=%{y}<extra></extra>",
         "legendgroup": "Terrestrial",
         "marker": {
          "color": "#EF553B",
          "opacity": 0.5,
          "pattern": {
           "shape": ""
          }
         },
         "name": "Terrestrial",
         "nbinsx": 30,
         "orientation": "v",
         "showlegend": true,
         "type": "histogram",
         "x": {
          "bdata": "zoXdGx8GGkADLBzZ/fIXQAqGDefKbyRAmXYfSMqFHEDjnncJLmQMQA9VqdgxTR9AAe6acF4SDECzUsnBCZIcQO+ueKO5TBRAeYZUVR/fG0D8RMhXqFw1QAXEHmhm7xZAAtoK2ijAHEByu7iwcQIdQBJ+fmycwBhAFFgQaizqEkA60s1KjZ0OQLsoaF2fVg9AG4zYOiNjGEB2U91NwswPQEgcjgzobAxAAiU4MsG2CEClT+zltqgWQB7NyXUdNxFA3q3htZ6LCkAoC8G1fkISQEdITbq4/w5A1Wl2Z2OzHUD0A0cPLB4JQN1wbCfS2g1AbdbjyhMKJkBoqcR43nsOQGDE+m6WDQlAXGx/eJZUD0B3h9ZZGJoLQLtUg+7Ydg1A5Hn9lvLmCkDDRuiKlFETQJSLH4F3FxFA+mbkbGz2E0AwQjHCTg0WQC5tDAAzQB5AHN3d8cr2CEC3UzeD1kwRQEVj0qlNugxA+cd/NoBtEkBRsqroM8oSQGwoMesvUQhATKWz594OEkDlBZtMXfkUQI/IhMqt+QlArax4/ewsD0BFD+ddeCwQQHyca7SgLRBAVN07tE3REEAl8tEDZUMTQH1TijMHMhFAXhShy0hdFkAikTmyJ48JQKK5qAYxYRhAMKhYrJMEHkA2Ywboz50KQGE/wVGKDBlAHlt3MqrmCUD1te3iovETQKL9kfrEGRBAJRnncBdaLEAwS9oOGMETQIYPekK69g1AQUdAoR+oIUAwMe4WaCQrQCeRCVfV6g9ARE6auo6nFUAKGlbeLd0LQA17X25kXAxAGDUdR+UwFEDHLOGHqXQIQMgG+f4goBpA",
          "dtype": "f8"
         },
         "xaxis": "x",
         "yaxis": "y"
        }
       ],
       "layout": {
        "bargap": 0.05,
        "barmode": "overlay",
        "legend": {
         "title": {
          "text": "planet_type"
         },
         "tracegroupgap": 0
        },
        "template": {
         "data": {
          "bar": [
           {
            "error_x": {
             "color": "#2a3f5f"
            },
            "error_y": {
             "color": "#2a3f5f"
            },
            "marker": {
             "line": {
              "color": "#E5ECF6",
              "width": 0.5
             },
             "pattern": {
              "fillmode": "overlay",
              "size": 10,
              "solidity": 0.2
             }
            },
            "type": "bar"
           }
          ],
          "barpolar": [
           {
            "marker": {
             "line": {
              "color": "#E5ECF6",
              "width": 0.5
             },
             "pattern": {
              "fillmode": "overlay",
              "size": 10,
              "solidity": 0.2
             }
            },
            "type": "barpolar"
           }
          ],
          "carpet": [
           {
            "aaxis": {
             "endlinecolor": "#2a3f5f",
             "gridcolor": "white",
             "linecolor": "white",
             "minorgridcolor": "white",
             "startlinecolor": "#2a3f5f"
            },
            "baxis": {
             "endlinecolor": "#2a3f5f",
             "gridcolor": "white",
             "linecolor": "white",
             "minorgridcolor": "white",
             "startlinecolor": "#2a3f5f"
            },
            "type": "carpet"
           }
          ],
          "choropleth": [
           {
            "colorbar": {
             "outlinewidth": 0,
             "ticks": ""
            },
            "type": "choropleth"
           }
          ],
          "contour": [
           {
            "colorbar": {
             "outlinewidth": 0,
             "ticks": ""
            },
            "colorscale": [
             [
              0,
              "#0d0887"
             ],
             [
              0.1111111111111111,
              "#46039f"
             ],
             [
              0.2222222222222222,
              "#7201a8"
             ],
             [
              0.3333333333333333,
              "#9c179e"
             ],
             [
              0.4444444444444444,
              "#bd3786"
             ],
             [
              0.5555555555555556,
              "#d8576b"
             ],
             [
              0.6666666666666666,
              "#ed7953"
             ],
             [
              0.7777777777777778,
              "#fb9f3a"
             ],
             [
              0.8888888888888888,
              "#fdca26"
             ],
             [
              1,
              "#f0f921"
             ]
            ],
            "type": "contour"
           }
          ],
          "contourcarpet": [
           {
            "colorbar": {
             "outlinewidth": 0,
             "ticks": ""
            },
            "type": "contourcarpet"
           }
          ],
          "heatmap": [
           {
            "colorbar": {
             "outlinewidth": 0,
             "ticks": ""
            },
            "colorscale": [
             [
              0,
              "#0d0887"
             ],
             [
              0.1111111111111111,
              "#46039f"
             ],
             [
              0.2222222222222222,
              "#7201a8"
             ],
             [
              0.3333333333333333,
              "#9c179e"
             ],
             [
              0.4444444444444444,
              "#bd3786"
             ],
             [
              0.5555555555555556,
              "#d8576b"
             ],
             [
              0.6666666666666666,
              "#ed7953"
             ],
             [
              0.7777777777777778,
              "#fb9f3a"
             ],
             [
              0.8888888888888888,
              "#fdca26"
             ],
             [
              1,
              "#f0f921"
             ]
            ],
            "type": "heatmap"
           }
          ],
          "histogram": [
           {
            "marker": {
             "pattern": {
              "fillmode": "overlay",
              "size": 10,
              "solidity": 0.2
             }
            },
            "type": "histogram"
           }
          ],
          "histogram2d": [
           {
            "colorbar": {
             "outlinewidth": 0,
             "ticks": ""
            },
            "colorscale": [
             [
              0,
              "#0d0887"
             ],
             [
              0.1111111111111111,
              "#46039f"
             ],
             [
              0.2222222222222222,
              "#7201a8"
             ],
             [
              0.3333333333333333,
              "#9c179e"
             ],
             [
              0.4444444444444444,
              "#bd3786"
             ],
             [
              0.5555555555555556,
              "#d8576b"
             ],
             [
              0.6666666666666666,
              "#ed7953"
             ],
             [
              0.7777777777777778,
              "#fb9f3a"
             ],
             [
              0.8888888888888888,
              "#fdca26"
             ],
             [
              1,
              "#f0f921"
             ]
            ],
            "type": "histogram2d"
           }
          ],
          "histogram2dcontour": [
           {
            "colorbar": {
             "outlinewidth": 0,
             "ticks": ""
            },
            "colorscale": [
             [
              0,
              "#0d0887"
             ],
             [
              0.1111111111111111,
              "#46039f"
             ],
             [
              0.2222222222222222,
              "#7201a8"
             ],
             [
              0.3333333333333333,
              "#9c179e"
             ],
             [
              0.4444444444444444,
              "#bd3786"
             ],
             [
              0.5555555555555556,
              "#d8576b"
             ],
             [
              0.6666666666666666,
              "#ed7953"
             ],
             [
              0.7777777777777778,
              "#fb9f3a"
             ],
             [
              0.8888888888888888,
              "#fdca26"
             ],
             [
              1,
              "#f0f921"
             ]
            ],
            "type": "histogram2dcontour"
           }
          ],
          "mesh3d": [
           {
            "colorbar": {
             "outlinewidth": 0,
             "ticks": ""
            },
            "type": "mesh3d"
           }
          ],
          "parcoords": [
           {
            "line": {
             "colorbar": {
              "outlinewidth": 0,
              "ticks": ""
             }
            },
            "type": "parcoords"
           }
          ],
          "pie": [
           {
            "automargin": true,
            "type": "pie"
           }
          ],
          "scatter": [
           {
            "fillpattern": {
             "fillmode": "overlay",
             "size": 10,
             "solidity": 0.2
            },
            "type": "scatter"
           }
          ],
          "scatter3d": [
           {
            "line": {
             "colorbar": {
              "outlinewidth": 0,
              "ticks": ""
             }
            },
            "marker": {
             "colorbar": {
              "outlinewidth": 0,
              "ticks": ""
             }
            },
            "type": "scatter3d"
           }
          ],
          "scattercarpet": [
           {
            "marker": {
             "colorbar": {
              "outlinewidth": 0,
              "ticks": ""
             }
            },
            "type": "scattercarpet"
           }
          ],
          "scattergeo": [
           {
            "marker": {
             "colorbar": {
              "outlinewidth": 0,
              "ticks": ""
             }
            },
            "type": "scattergeo"
           }
          ],
          "scattergl": [
           {
            "marker": {
             "colorbar": {
              "outlinewidth": 0,
              "ticks": ""
             }
            },
            "type": "scattergl"
           }
          ],
          "scattermap": [
           {
            "marker": {
             "colorbar": {
              "outlinewidth": 0,
              "ticks": ""
             }
            },
            "type": "scattermap"
           }
          ],
          "scattermapbox": [
           {
            "marker": {
             "colorbar": {
              "outlinewidth": 0,
              "ticks": ""
             }
            },
            "type": "scattermapbox"
           }
          ],
          "scatterpolar": [
           {
            "marker": {
             "colorbar": {
              "outlinewidth": 0,
              "ticks": ""
             }
            },
            "type": "scatterpolar"
           }
          ],
          "scatterpolargl": [
           {
            "marker": {
             "colorbar": {
              "outlinewidth": 0,
              "ticks": ""
             }
            },
            "type": "scatterpolargl"
           }
          ],
          "scatterternary": [
           {
            "marker": {
             "colorbar": {
              "outlinewidth": 0,
              "ticks": ""
             }
            },
            "type": "scatterternary"
           }
          ],
          "surface": [
           {
            "colorbar": {
             "outlinewidth": 0,
             "ticks": ""
            },
            "colorscale": [
             [
              0,
              "#0d0887"
             ],
             [
              0.1111111111111111,
              "#46039f"
             ],
             [
              0.2222222222222222,
              "#7201a8"
             ],
             [
              0.3333333333333333,
              "#9c179e"
             ],
             [
              0.4444444444444444,
              "#bd3786"
             ],
             [
              0.5555555555555556,
              "#d8576b"
             ],
             [
              0.6666666666666666,
              "#ed7953"
             ],
             [
              0.7777777777777778,
              "#fb9f3a"
             ],
             [
              0.8888888888888888,
              "#fdca26"
             ],
             [
              1,
              "#f0f921"
             ]
            ],
            "type": "surface"
           }
          ],
          "table": [
           {
            "cells": {
             "fill": {
              "color": "#EBF0F8"
             },
             "line": {
              "color": "white"
             }
            },
            "header": {
             "fill": {
              "color": "#C8D4E3"
             },
             "line": {
              "color": "white"
             }
            },
            "type": "table"
           }
          ]
         },
         "layout": {
          "annotationdefaults": {
           "arrowcolor": "#2a3f5f",
           "arrowhead": 0,
           "arrowwidth": 1
          },
          "autotypenumbers": "strict",
          "coloraxis": {
           "colorbar": {
            "outlinewidth": 0,
            "ticks": ""
           }
          },
          "colorscale": {
           "diverging": [
            [
             0,
             "#8e0152"
            ],
            [
             0.1,
             "#c51b7d"
            ],
            [
             0.2,
             "#de77ae"
            ],
            [
             0.3,
             "#f1b6da"
            ],
            [
             0.4,
             "#fde0ef"
            ],
            [
             0.5,
             "#f7f7f7"
            ],
            [
             0.6,
             "#e6f5d0"
            ],
            [
             0.7,
             "#b8e186"
            ],
            [
             0.8,
             "#7fbc41"
            ],
            [
             0.9,
             "#4d9221"
            ],
            [
             1,
             "#276419"
            ]
           ],
           "sequential": [
            [
             0,
             "#0d0887"
            ],
            [
             0.1111111111111111,
             "#46039f"
            ],
            [
             0.2222222222222222,
             "#7201a8"
            ],
            [
             0.3333333333333333,
             "#9c179e"
            ],
            [
             0.4444444444444444,
             "#bd3786"
            ],
            [
             0.5555555555555556,
             "#d8576b"
            ],
            [
             0.6666666666666666,
             "#ed7953"
            ],
            [
             0.7777777777777778,
             "#fb9f3a"
            ],
            [
             0.8888888888888888,
             "#fdca26"
            ],
            [
             1,
             "#f0f921"
            ]
           ],
           "sequentialminus": [
            [
             0,
             "#0d0887"
            ],
            [
             0.1111111111111111,
             "#46039f"
            ],
            [
             0.2222222222222222,
             "#7201a8"
            ],
            [
             0.3333333333333333,
             "#9c179e"
            ],
            [
             0.4444444444444444,
             "#bd3786"
            ],
            [
             0.5555555555555556,
             "#d8576b"
            ],
            [
             0.6666666666666666,
             "#ed7953"
            ],
            [
             0.7777777777777778,
             "#fb9f3a"
            ],
            [
             0.8888888888888888,
             "#fdca26"
            ],
            [
             1,
             "#f0f921"
            ]
           ]
          },
          "colorway": [
           "#636efa",
           "#EF553B",
           "#00cc96",
           "#ab63fa",
           "#FFA15A",
           "#19d3f3",
           "#FF6692",
           "#B6E880",
           "#FF97FF",
           "#FECB52"
          ],
          "font": {
           "color": "#2a3f5f"
          },
          "geo": {
           "bgcolor": "white",
           "lakecolor": "white",
           "landcolor": "#E5ECF6",
           "showlakes": true,
           "showland": true,
           "subunitcolor": "white"
          },
          "hoverlabel": {
           "align": "left"
          },
          "hovermode": "closest",
          "mapbox": {
           "style": "light"
          },
          "paper_bgcolor": "white",
          "plot_bgcolor": "#E5ECF6",
          "polar": {
           "angularaxis": {
            "gridcolor": "white",
            "linecolor": "white",
            "ticks": ""
           },
           "bgcolor": "#E5ECF6",
           "radialaxis": {
            "gridcolor": "white",
            "linecolor": "white",
            "ticks": ""
           }
          },
          "scene": {
           "xaxis": {
            "backgroundcolor": "#E5ECF6",
            "gridcolor": "white",
            "gridwidth": 2,
            "linecolor": "white",
            "showbackground": true,
            "ticks": "",
            "zerolinecolor": "white"
           },
           "yaxis": {
            "backgroundcolor": "#E5ECF6",
            "gridcolor": "white",
            "gridwidth": 2,
            "linecolor": "white",
            "showbackground": true,
            "ticks": "",
            "zerolinecolor": "white"
           },
           "zaxis": {
            "backgroundcolor": "#E5ECF6",
            "gridcolor": "white",
            "gridwidth": 2,
            "linecolor": "white",
            "showbackground": true,
            "ticks": "",
            "zerolinecolor": "white"
           }
          },
          "shapedefaults": {
           "line": {
            "color": "#2a3f5f"
           }
          },
          "ternary": {
           "aaxis": {
            "gridcolor": "white",
            "linecolor": "white",
            "ticks": ""
           },
           "baxis": {
            "gridcolor": "white",
            "linecolor": "white",
            "ticks": ""
           },
           "bgcolor": "#E5ECF6",
           "caxis": {
            "gridcolor": "white",
            "linecolor": "white",
            "ticks": ""
           }
          },
          "title": {
           "x": 0.05
          },
          "xaxis": {
           "automargin": true,
           "gridcolor": "white",
           "linecolor": "white",
           "ticks": "",
           "title": {
            "standoff": 15
           },
           "zerolinecolor": "white",
           "zerolinewidth": 2
          },
          "yaxis": {
           "automargin": true,
           "gridcolor": "white",
           "linecolor": "white",
           "ticks": "",
           "title": {
            "standoff": 15
           },
           "zerolinecolor": "white",
           "zerolinewidth": 2
          }
         }
        },
        "title": {
         "text": "Interactive Planet Density Distribution"
        },
        "xaxis": {
         "anchor": "y",
         "domain": [
          0,
          1
         ],
         "title": {
          "text": "Density (g/cm³)"
         }
        },
        "yaxis": {
         "anchor": "x",
         "domain": [
          0,
          1
         ],
         "title": {
          "text": "Number of Planets"
         }
        }
       }
      }
     },
     "metadata": {},
     "output_type": "display_data"
    }
   ],
   "source": [
    "#Interactive Density Distribution Plot\n",
    "import plotly.express as px\n",
    "\n",
    "\n",
    "fig = px.histogram(\n",
    "    df_cleaned,\n",
    "    x=\"density_g_cm3\",      \n",
    "    color=\"planet_type\",     \n",
    "    nbins=30,\n",
    "    barmode=\"overlay\",\n",
    "    title=\"Interactive Planet Density Distribution\"\n",
    ")\n",
    "fig.update_layout(\n",
    "    xaxis_title=\"Density (g/cm³)\",\n",
    "    yaxis_title=\"Number of Planets\",\n",
    "    bargap=0.05\n",
    ")\n",
    "fig.show()"
   ]
  },
  {
   "cell_type": "code",
   "execution_count": null,
   "id": "be9438c4",
   "metadata": {},
   "outputs": [
    {
     "name": "stdout",
     "output_type": "stream",
     "text": [
      "planet_type\n",
      "Gaseous        119\n",
      "Terrestrial     78\n",
      "Name: count, dtype: int64\n"
     ]
    }
   ],
   "source": [
    "print(df_cleaned[\"planet_type\"].value_counts())"
   ]
  },
  {
   "cell_type": "code",
   "execution_count": null,
   "id": "4efa9bf0",
   "metadata": {},
   "outputs": [
    {
     "data": {
      "text/plain": [
       "<Axes: xlabel='density_g_cm3', ylabel='Count'>"
      ]
     },
     "execution_count": 141,
     "metadata": {},
     "output_type": "execute_result"
    },
    {
     "data": {
      "image/png": "[encoded data removed]",
      "text/plain": [
       "<Figure size 640x480 with 1 Axes>"
      ]
     },
     "metadata": {},
     "output_type": "display_data"
    }
   ],
   "source": [
    "#Static Density Distribution Plot\n",
    "df_cleaned.head()\n",
    "\n",
    "sns.histplot(data=df_cleaned,x=\"density_g_cm3\",hue=\"planet_type\")"
   ]
  },
  {
   "cell_type": "code",
   "execution_count": null,
   "id": "1ac0f7fe",
   "metadata": {},
   "outputs": [],
   "source": [
    "df_cleaned[\"f_radius\"]      = df_cleaned[\"pl_rade\"].between(0.5, 1.6)\n",
    "df_cleaned[\"f_mass\"]        = df_cleaned[\"pl_bmasse\"].between(0.2, 5.0)\n",
    "df_cleaned[\"f_insolation\"]  = df_cleaned[\"pl_insol\"].between(0.35, 1.75)\n",
    "df_cleaned[\"f_eq_temp\"]     = df_cleaned[\"pl_eqt\"].between(180, 310)\n",
    "df_cleaned[\"f_star_teff\"]   = df_cleaned[\"st_teff\"].between(3500, 6500)\n",
    "df_cleaned[\"f_eccentric\"]   = df_cleaned[\"pl_orbeccen\"] < 0.2\n"
   ]
  },
  {
   "cell_type": "code",
   "execution_count": null,
   "id": "9bf827fb",
   "metadata": {},
   "outputs": [
    {
     "name": "stdout",
     "output_type": "stream",
     "text": [
      "count    197.000000\n",
      "mean       6.896561\n",
      "std        5.162238\n",
      "min        0.640000\n",
      "25%        2.390000\n",
      "50%        5.090000\n",
      "75%       11.679758\n",
      "max       22.193820\n",
      "Name: pl_rade, dtype: float64\n",
      "count     197.000000\n",
      "mean      274.382701\n",
      "std       584.274312\n",
      "min         0.070000\n",
      "25%         7.320000\n",
      "50%        30.000000\n",
      "75%       254.000000\n",
      "max      4096.808166\n",
      "Name: pl_bmasse, dtype: float64\n",
      "count     197.000000\n",
      "mean      358.176136\n",
      "std       796.846229\n",
      "min         0.342000\n",
      "25%        12.920000\n",
      "50%        46.700000\n",
      "75%       308.000000\n",
      "max      5805.000000\n",
      "Name: pl_insol, dtype: float64\n",
      "count     197.000000\n",
      "mean      887.538934\n",
      "std       489.909658\n",
      "min       251.000000\n",
      "25%       528.000000\n",
      "50%       723.000000\n",
      "75%      1192.000000\n",
      "max      2429.000000\n",
      "Name: pl_eqt, dtype: float64\n",
      "count     197.000000\n",
      "mean     4890.791878\n",
      "std      1033.142503\n",
      "min      2960.000000\n",
      "25%      3841.000000\n",
      "50%      5083.000000\n",
      "75%      5725.000000\n",
      "max      7690.000000\n",
      "Name: st_teff, dtype: float64\n",
      "count    197.000000\n",
      "mean       0.117347\n",
      "std        0.141762\n",
      "min        0.000000\n",
      "25%        0.037000\n",
      "50%        0.070000\n",
      "75%        0.152000\n",
      "max        0.920000\n",
      "Name: pl_orbeccen, dtype: float64\n"
     ]
    }
   ],
   "source": [
    "print(df_cleaned[\"pl_rade\"].describe())\n",
    "print(df_cleaned[\"pl_bmasse\"].describe())\n",
    "print(df_cleaned[\"pl_insol\"].describe())\n",
    "print(df_cleaned[\"pl_eqt\"].describe())\n",
    "print(df_cleaned[\"st_teff\"].describe())\n",
    "print(df_cleaned[\"pl_orbeccen\"].describe())"
   ]
  },
  {
   "cell_type": "code",
   "execution_count": null,
   "id": "6ef092a7",
   "metadata": {},
   "outputs": [],
   "source": [
    "criteria_cols = [\n",
    "    \"f_radius\", \"f_mass\", \"f_insolation\",\n",
    "    \"f_eq_temp\", \"f_star_teff\", \"f_eccentric\"\n",
    "]\n",
    "\n",
    "df_cleaned[\"Potential Habitability\"] = df_cleaned[criteria_cols].sum(axis=1)"
   ]
  },
  {
   "cell_type": "code",
   "execution_count": null,
   "id": "9302c76c",
   "metadata": {},
   "outputs": [
    {
     "data": {
      "text/plain": [
       "Potential Habitability\n",
       "2    121\n",
       "1     38\n",
       "3     23\n",
       "4     14\n",
       "0      1\n",
       "Name: count, dtype: int64"
      ]
     },
     "execution_count": 155,
     "metadata": {},
     "output_type": "execute_result"
    },
    {
     "data": {
      "image/png": "[encoded data removed]",
      "text/plain": [
       "<Figure size 640x480 with 1 Axes>"
      ]
     },
     "metadata": {},
     "output_type": "display_data"
    }
   ],
   "source": [
    "sns.histplot(data=df_cleaned,x=\"Potential Habitability\",bins=5)\n",
    "df_cleaned.value_counts(\"Potential Habitability\")"
   ]
  },
  {
   "cell_type": "code",
   "execution_count": null,
   "id": "c12afc01",
   "metadata": {},
   "outputs": [
    {
     "data": {
      "text/html": [
       "<div>\n",
       "<style scoped>\n",
       "    .dataframe tbody tr th:only-of-type {\n",
       "        vertical-align: middle;\n",
       "    }\n",
       "\n",
       "    .dataframe tbody tr th {\n",
       "        vertical-align: top;\n",
       "    }\n",
       "\n",
       "    .dataframe thead th {\n",
       "        text-align: right;\n",
       "    }\n",
       "</style>\n",
       "<table border=\"1\" class=\"dataframe\">\n",
       "  <thead>\n",
       "    <tr style=\"text-align: right;\">\n",
       "      <th></th>\n",
       "      <th>pl_name</th>\n",
       "      <th>hostname</th>\n",
       "      <th>default_flag</th>\n",
       "      <th>sy_snum</th>\n",
       "      <th>sy_pnum</th>\n",
       "      <th>pl_controv_flag</th>\n",
       "      <th>pl_orbper</th>\n",
       "      <th>pl_orbsmax</th>\n",
       "      <th>pl_rade</th>\n",
       "      <th>pl_radj</th>\n",
       "      <th>...</th>\n",
       "      <th>density_kg_m3</th>\n",
       "      <th>density_g_cm3</th>\n",
       "      <th>planet_type</th>\n",
       "      <th>f_radius</th>\n",
       "      <th>f_mass</th>\n",
       "      <th>f_insolation</th>\n",
       "      <th>f_eq_temp</th>\n",
       "      <th>f_star_teff</th>\n",
       "      <th>f_eccentric</th>\n",
       "      <th>Potential Habitability</th>\n",
       "    </tr>\n",
       "  </thead>\n",
       "  <tbody>\n",
       "    <tr>\n",
       "      <th>500</th>\n",
       "      <td>EPIC 220674823 c</td>\n",
       "      <td>EPIC 220674823</td>\n",
       "      <td>1</td>\n",
       "      <td>1</td>\n",
       "      <td>2</td>\n",
       "      <td>0</td>\n",
       "      <td>13.339890</td>\n",
       "      <td>0.10730</td>\n",
       "      <td>2.840000</td>\n",
       "      <td>0.253368</td>\n",
       "      <td>...</td>\n",
       "      <td>1761.831763</td>\n",
       "      <td>1.761832</td>\n",
       "      <td>Gaseous</td>\n",
       "      <td>False</td>\n",
       "      <td>False</td>\n",
       "      <td>False</td>\n",
       "      <td>False</td>\n",
       "      <td>True</td>\n",
       "      <td>True</td>\n",
       "      <td>2</td>\n",
       "    </tr>\n",
       "    <tr>\n",
       "      <th>512</th>\n",
       "      <td>EPIC 249893012 b</td>\n",
       "      <td>EPIC 249893012</td>\n",
       "      <td>1</td>\n",
       "      <td>1</td>\n",
       "      <td>3</td>\n",
       "      <td>0</td>\n",
       "      <td>3.595100</td>\n",
       "      <td>0.04700</td>\n",
       "      <td>1.950000</td>\n",
       "      <td>0.173967</td>\n",
       "      <td>...</td>\n",
       "      <td>6505.978046</td>\n",
       "      <td>6.505978</td>\n",
       "      <td>Terrestrial</td>\n",
       "      <td>False</td>\n",
       "      <td>False</td>\n",
       "      <td>False</td>\n",
       "      <td>False</td>\n",
       "      <td>True</td>\n",
       "      <td>True</td>\n",
       "      <td>2</td>\n",
       "    </tr>\n",
       "    <tr>\n",
       "      <th>513</th>\n",
       "      <td>EPIC 249893012 c</td>\n",
       "      <td>EPIC 249893012</td>\n",
       "      <td>1</td>\n",
       "      <td>1</td>\n",
       "      <td>3</td>\n",
       "      <td>0</td>\n",
       "      <td>15.624000</td>\n",
       "      <td>0.13000</td>\n",
       "      <td>3.670000</td>\n",
       "      <td>0.327415</td>\n",
       "      <td>...</td>\n",
       "      <td>1636.214721</td>\n",
       "      <td>1.636215</td>\n",
       "      <td>Gaseous</td>\n",
       "      <td>False</td>\n",
       "      <td>False</td>\n",
       "      <td>False</td>\n",
       "      <td>False</td>\n",
       "      <td>True</td>\n",
       "      <td>True</td>\n",
       "      <td>2</td>\n",
       "    </tr>\n",
       "    <tr>\n",
       "      <th>514</th>\n",
       "      <td>EPIC 249893012 d</td>\n",
       "      <td>EPIC 249893012</td>\n",
       "      <td>1</td>\n",
       "      <td>1</td>\n",
       "      <td>3</td>\n",
       "      <td>0</td>\n",
       "      <td>35.747000</td>\n",
       "      <td>0.22000</td>\n",
       "      <td>3.940000</td>\n",
       "      <td>0.351503</td>\n",
       "      <td>...</td>\n",
       "      <td>917.629754</td>\n",
       "      <td>0.917630</td>\n",
       "      <td>Gaseous</td>\n",
       "      <td>False</td>\n",
       "      <td>False</td>\n",
       "      <td>False</td>\n",
       "      <td>False</td>\n",
       "      <td>True</td>\n",
       "      <td>True</td>\n",
       "      <td>2</td>\n",
       "    </tr>\n",
       "    <tr>\n",
       "      <th>535</th>\n",
       "      <td>GJ 1132 b</td>\n",
       "      <td>GJ 1132</td>\n",
       "      <td>1</td>\n",
       "      <td>1</td>\n",
       "      <td>2</td>\n",
       "      <td>0</td>\n",
       "      <td>1.628929</td>\n",
       "      <td>0.01570</td>\n",
       "      <td>1.191515</td>\n",
       "      <td>0.106300</td>\n",
       "      <td>...</td>\n",
       "      <td>5987.296479</td>\n",
       "      <td>5.987296</td>\n",
       "      <td>Terrestrial</td>\n",
       "      <td>True</td>\n",
       "      <td>True</td>\n",
       "      <td>False</td>\n",
       "      <td>False</td>\n",
       "      <td>False</td>\n",
       "      <td>True</td>\n",
       "      <td>3</td>\n",
       "    </tr>\n",
       "    <tr>\n",
       "      <th>...</th>\n",
       "      <td>...</td>\n",
       "      <td>...</td>\n",
       "      <td>...</td>\n",
       "      <td>...</td>\n",
       "      <td>...</td>\n",
       "      <td>...</td>\n",
       "      <td>...</td>\n",
       "      <td>...</td>\n",
       "      <td>...</td>\n",
       "      <td>...</td>\n",
       "      <td>...</td>\n",
       "      <td>...</td>\n",
       "      <td>...</td>\n",
       "      <td>...</td>\n",
       "      <td>...</td>\n",
       "      <td>...</td>\n",
       "      <td>...</td>\n",
       "      <td>...</td>\n",
       "      <td>...</td>\n",
       "      <td>...</td>\n",
       "      <td>...</td>\n",
       "    </tr>\n",
       "    <tr>\n",
       "      <th>37781</th>\n",
       "      <td>WASP-19 b</td>\n",
       "      <td>WASP-19</td>\n",
       "      <td>1</td>\n",
       "      <td>1</td>\n",
       "      <td>1</td>\n",
       "      <td>0</td>\n",
       "      <td>0.788839</td>\n",
       "      <td>0.01652</td>\n",
       "      <td>15.860708</td>\n",
       "      <td>1.415000</td>\n",
       "      <td>...</td>\n",
       "      <td>506.803039</td>\n",
       "      <td>0.506803</td>\n",
       "      <td>Gaseous</td>\n",
       "      <td>False</td>\n",
       "      <td>False</td>\n",
       "      <td>False</td>\n",
       "      <td>False</td>\n",
       "      <td>True</td>\n",
       "      <td>True</td>\n",
       "      <td>2</td>\n",
       "    </tr>\n",
       "    <tr>\n",
       "      <th>37791</th>\n",
       "      <td>WASP-193 b</td>\n",
       "      <td>WASP-193</td>\n",
       "      <td>1</td>\n",
       "      <td>1</td>\n",
       "      <td>1</td>\n",
       "      <td>0</td>\n",
       "      <td>6.246334</td>\n",
       "      <td>0.06760</td>\n",
       "      <td>16.409948</td>\n",
       "      <td>1.464000</td>\n",
       "      <td>...</td>\n",
       "      <td>55.118107</td>\n",
       "      <td>0.055118</td>\n",
       "      <td>Gaseous</td>\n",
       "      <td>False</td>\n",
       "      <td>False</td>\n",
       "      <td>False</td>\n",
       "      <td>False</td>\n",
       "      <td>True</td>\n",
       "      <td>True</td>\n",
       "      <td>2</td>\n",
       "    </tr>\n",
       "    <tr>\n",
       "      <th>38369</th>\n",
       "      <td>WASP-76 b</td>\n",
       "      <td>WASP-76</td>\n",
       "      <td>0</td>\n",
       "      <td>2</td>\n",
       "      <td>1</td>\n",
       "      <td>0</td>\n",
       "      <td>1.809882</td>\n",
       "      <td>0.03304</td>\n",
       "      <td>20.680569</td>\n",
       "      <td>1.845000</td>\n",
       "      <td>...</td>\n",
       "      <td>180.283094</td>\n",
       "      <td>0.180283</td>\n",
       "      <td>Gaseous</td>\n",
       "      <td>False</td>\n",
       "      <td>False</td>\n",
       "      <td>False</td>\n",
       "      <td>False</td>\n",
       "      <td>True</td>\n",
       "      <td>True</td>\n",
       "      <td>2</td>\n",
       "    </tr>\n",
       "    <tr>\n",
       "      <th>38373</th>\n",
       "      <td>WASP-77 A b</td>\n",
       "      <td>WASP-77 A</td>\n",
       "      <td>0</td>\n",
       "      <td>2</td>\n",
       "      <td>1</td>\n",
       "      <td>0</td>\n",
       "      <td>1.360029</td>\n",
       "      <td>0.02335</td>\n",
       "      <td>13.787046</td>\n",
       "      <td>1.230000</td>\n",
       "      <td>...</td>\n",
       "      <td>1114.610134</td>\n",
       "      <td>1.114610</td>\n",
       "      <td>Gaseous</td>\n",
       "      <td>False</td>\n",
       "      <td>False</td>\n",
       "      <td>False</td>\n",
       "      <td>False</td>\n",
       "      <td>True</td>\n",
       "      <td>True</td>\n",
       "      <td>2</td>\n",
       "    </tr>\n",
       "    <tr>\n",
       "      <th>38653</th>\n",
       "      <td>XO-7 b</td>\n",
       "      <td>XO-7</td>\n",
       "      <td>1</td>\n",
       "      <td>1</td>\n",
       "      <td>1</td>\n",
       "      <td>0</td>\n",
       "      <td>2.864142</td>\n",
       "      <td>0.04421</td>\n",
       "      <td>15.389957</td>\n",
       "      <td>1.373000</td>\n",
       "      <td>...</td>\n",
       "      <td>340.829579</td>\n",
       "      <td>0.340830</td>\n",
       "      <td>Gaseous</td>\n",
       "      <td>False</td>\n",
       "      <td>False</td>\n",
       "      <td>False</td>\n",
       "      <td>False</td>\n",
       "      <td>True</td>\n",
       "      <td>True</td>\n",
       "      <td>2</td>\n",
       "    </tr>\n",
       "  </tbody>\n",
       "</table>\n",
       "<p>197 rows × 32 columns</p>\n",
       "</div>"
      ],
      "text/plain": [
       "                pl_name        hostname  default_flag  sy_snum  sy_pnum  \\\n",
       "500    EPIC 220674823 c  EPIC 220674823             1        1        2   \n",
       "512    EPIC 249893012 b  EPIC 249893012             1        1        3   \n",
       "513    EPIC 249893012 c  EPIC 249893012             1        1        3   \n",
       "514    EPIC 249893012 d  EPIC 249893012             1        1        3   \n",
       "535           GJ 1132 b         GJ 1132             1        1        2   \n",
       "...                 ...             ...           ...      ...      ...   \n",
       "37781         WASP-19 b         WASP-19             1        1        1   \n",
       "37791        WASP-193 b        WASP-193             1        1        1   \n",
       "38369         WASP-76 b         WASP-76             0        2        1   \n",
       "38373       WASP-77 A b       WASP-77 A             0        2        1   \n",
       "38653            XO-7 b            XO-7             1        1        1   \n",
       "\n",
       "       pl_controv_flag  pl_orbper  pl_orbsmax    pl_rade   pl_radj  ...  \\\n",
       "500                  0  13.339890     0.10730   2.840000  0.253368  ...   \n",
       "512                  0   3.595100     0.04700   1.950000  0.173967  ...   \n",
       "513                  0  15.624000     0.13000   3.670000  0.327415  ...   \n",
       "514                  0  35.747000     0.22000   3.940000  0.351503  ...   \n",
       "535                  0   1.628929     0.01570   1.191515  0.106300  ...   \n",
       "...                ...        ...         ...        ...       ...  ...   \n",
       "37781                0   0.788839     0.01652  15.860708  1.415000  ...   \n",
       "37791                0   6.246334     0.06760  16.409948  1.464000  ...   \n",
       "38369                0   1.809882     0.03304  20.680569  1.845000  ...   \n",
       "38373                0   1.360029     0.02335  13.787046  1.230000  ...   \n",
       "38653                0   2.864142     0.04421  15.389957  1.373000  ...   \n",
       "\n",
       "       density_kg_m3  density_g_cm3  planet_type  f_radius  f_mass  \\\n",
       "500      1761.831763       1.761832      Gaseous     False   False   \n",
       "512      6505.978046       6.505978  Terrestrial     False   False   \n",
       "513      1636.214721       1.636215      Gaseous     False   False   \n",
       "514       917.629754       0.917630      Gaseous     False   False   \n",
       "535      5987.296479       5.987296  Terrestrial      True    True   \n",
       "...              ...            ...          ...       ...     ...   \n",
       "37781     506.803039       0.506803      Gaseous     False   False   \n",
       "37791      55.118107       0.055118      Gaseous     False   False   \n",
       "38369     180.283094       0.180283      Gaseous     False   False   \n",
       "38373    1114.610134       1.114610      Gaseous     False   False   \n",
       "38653     340.829579       0.340830      Gaseous     False   False   \n",
       "\n",
       "       f_insolation  f_eq_temp  f_star_teff  f_eccentric  \\\n",
       "500           False      False         True         True   \n",
       "512           False      False         True         True   \n",
       "513           False      False         True         True   \n",
       "514           False      False         True         True   \n",
       "535           False      False        False         True   \n",
       "...             ...        ...          ...          ...   \n",
       "37781         False      False         True         True   \n",
       "37791         False      False         True         True   \n",
       "38369         False      False         True         True   \n",
       "38373         False      False         True         True   \n",
       "38653         False      False         True         True   \n",
       "\n",
       "      Potential Habitability  \n",
       "500                        2  \n",
       "512                        2  \n",
       "513                        2  \n",
       "514                        2  \n",
       "535                        3  \n",
       "...                      ...  \n",
       "37781                      2  \n",
       "37791                      2  \n",
       "38369                      2  \n",
       "38373                      2  \n",
       "38653                      2  \n",
       "\n",
       "[197 rows x 32 columns]"
      ]
     },
     "execution_count": 146,
     "metadata": {},
     "output_type": "execute_result"
    }
   ],
   "source": [
    "df_cleaned"
   ]
  },
  {
   "cell_type": "code",
   "execution_count": null,
   "id": "fcd3e92e",
   "metadata": {},
   "outputs": [
    {
     "name": "stdout",
     "output_type": "stream",
     "text": [
      "f_eccentric\n",
      "True     167\n",
      "False     30\n",
      "Name: count, dtype: int64\n",
      "f_star_teff\n",
      "True     167\n",
      "False     30\n",
      "Name: count, dtype: int64\n",
      "f_eq_temp\n",
      "False    193\n",
      "True       4\n",
      "Name: count, dtype: int64\n",
      "f_insolation\n",
      "False    194\n",
      "True       3\n",
      "Name: count, dtype: int64\n",
      "f_mass\n",
      "False    161\n",
      "True      36\n",
      "Name: count, dtype: int64\n",
      "f_radius\n",
      "False    169\n",
      "True      28\n",
      "Name: count, dtype: int64\n"
     ]
    }
   ],
   "source": [
    "print(df_cleaned[\"f_eccentric\"].value_counts())\n",
    "print(df_cleaned[\"f_star_teff\"].value_counts())\n",
    "print(df_cleaned[\"f_eq_temp\"].value_counts())\n",
    "print(df_cleaned[\"f_insolation\"].value_counts())\n",
    "print(df_cleaned[\"f_mass\"].value_counts())\n",
    "print(df_cleaned[\"f_radius\"].value_counts())\n"
   ]
  },
  {
   "cell_type": "code",
   "execution_count": null,
   "id": "d1df08a9",
   "metadata": {},
   "outputs": [
    {
     "data": {
      "text/html": [
       "<div>\n",
       "<style scoped>\n",
       "    .dataframe tbody tr th:only-of-type {\n",
       "        vertical-align: middle;\n",
       "    }\n",
       "\n",
       "    .dataframe tbody tr th {\n",
       "        vertical-align: top;\n",
       "    }\n",
       "\n",
       "    .dataframe thead th {\n",
       "        text-align: right;\n",
       "    }\n",
       "</style>\n",
       "<table border=\"1\" class=\"dataframe\">\n",
       "  <thead>\n",
       "    <tr style=\"text-align: right;\">\n",
       "      <th></th>\n",
       "      <th>pl_name</th>\n",
       "      <th>hostname</th>\n",
       "      <th>default_flag</th>\n",
       "      <th>sy_snum</th>\n",
       "      <th>sy_pnum</th>\n",
       "      <th>pl_controv_flag</th>\n",
       "      <th>pl_orbper</th>\n",
       "      <th>pl_orbsmax</th>\n",
       "      <th>pl_rade</th>\n",
       "      <th>pl_radj</th>\n",
       "      <th>...</th>\n",
       "      <th>density_kg_m3</th>\n",
       "      <th>density_g_cm3</th>\n",
       "      <th>planet_type</th>\n",
       "      <th>f_radius</th>\n",
       "      <th>f_mass</th>\n",
       "      <th>f_insolation</th>\n",
       "      <th>f_eq_temp</th>\n",
       "      <th>f_star_teff</th>\n",
       "      <th>f_eccentric</th>\n",
       "      <th>Potential Habitability</th>\n",
       "    </tr>\n",
       "  </thead>\n",
       "  <tbody>\n",
       "    <tr>\n",
       "      <th>500</th>\n",
       "      <td>EPIC 220674823 c</td>\n",
       "      <td>EPIC 220674823</td>\n",
       "      <td>1</td>\n",
       "      <td>1</td>\n",
       "      <td>2</td>\n",
       "      <td>0</td>\n",
       "      <td>13.339890</td>\n",
       "      <td>0.10730</td>\n",
       "      <td>2.840000</td>\n",
       "      <td>0.253368</td>\n",
       "      <td>...</td>\n",
       "      <td>1761.831763</td>\n",
       "      <td>1.761832</td>\n",
       "      <td>Gaseous</td>\n",
       "      <td>False</td>\n",
       "      <td>False</td>\n",
       "      <td>False</td>\n",
       "      <td>False</td>\n",
       "      <td>True</td>\n",
       "      <td>True</td>\n",
       "      <td>2</td>\n",
       "    </tr>\n",
       "    <tr>\n",
       "      <th>512</th>\n",
       "      <td>EPIC 249893012 b</td>\n",
       "      <td>EPIC 249893012</td>\n",
       "      <td>1</td>\n",
       "      <td>1</td>\n",
       "      <td>3</td>\n",
       "      <td>0</td>\n",
       "      <td>3.595100</td>\n",
       "      <td>0.04700</td>\n",
       "      <td>1.950000</td>\n",
       "      <td>0.173967</td>\n",
       "      <td>...</td>\n",
       "      <td>6505.978046</td>\n",
       "      <td>6.505978</td>\n",
       "      <td>Terrestrial</td>\n",
       "      <td>False</td>\n",
       "      <td>False</td>\n",
       "      <td>False</td>\n",
       "      <td>False</td>\n",
       "      <td>True</td>\n",
       "      <td>True</td>\n",
       "      <td>2</td>\n",
       "    </tr>\n",
       "    <tr>\n",
       "      <th>513</th>\n",
       "      <td>EPIC 249893012 c</td>\n",
       "      <td>EPIC 249893012</td>\n",
       "      <td>1</td>\n",
       "      <td>1</td>\n",
       "      <td>3</td>\n",
       "      <td>0</td>\n",
       "      <td>15.624000</td>\n",
       "      <td>0.13000</td>\n",
       "      <td>3.670000</td>\n",
       "      <td>0.327415</td>\n",
       "      <td>...</td>\n",
       "      <td>1636.214721</td>\n",
       "      <td>1.636215</td>\n",
       "      <td>Gaseous</td>\n",
       "      <td>False</td>\n",
       "      <td>False</td>\n",
       "      <td>False</td>\n",
       "      <td>False</td>\n",
       "      <td>True</td>\n",
       "      <td>True</td>\n",
       "      <td>2</td>\n",
       "    </tr>\n",
       "    <tr>\n",
       "      <th>514</th>\n",
       "      <td>EPIC 249893012 d</td>\n",
       "      <td>EPIC 249893012</td>\n",
       "      <td>1</td>\n",
       "      <td>1</td>\n",
       "      <td>3</td>\n",
       "      <td>0</td>\n",
       "      <td>35.747000</td>\n",
       "      <td>0.22000</td>\n",
       "      <td>3.940000</td>\n",
       "      <td>0.351503</td>\n",
       "      <td>...</td>\n",
       "      <td>917.629754</td>\n",
       "      <td>0.917630</td>\n",
       "      <td>Gaseous</td>\n",
       "      <td>False</td>\n",
       "      <td>False</td>\n",
       "      <td>False</td>\n",
       "      <td>False</td>\n",
       "      <td>True</td>\n",
       "      <td>True</td>\n",
       "      <td>2</td>\n",
       "    </tr>\n",
       "    <tr>\n",
       "      <th>535</th>\n",
       "      <td>GJ 1132 b</td>\n",
       "      <td>GJ 1132</td>\n",
       "      <td>1</td>\n",
       "      <td>1</td>\n",
       "      <td>2</td>\n",
       "      <td>0</td>\n",
       "      <td>1.628929</td>\n",
       "      <td>0.01570</td>\n",
       "      <td>1.191515</td>\n",
       "      <td>0.106300</td>\n",
       "      <td>...</td>\n",
       "      <td>5987.296479</td>\n",
       "      <td>5.987296</td>\n",
       "      <td>Terrestrial</td>\n",
       "      <td>True</td>\n",
       "      <td>True</td>\n",
       "      <td>False</td>\n",
       "      <td>False</td>\n",
       "      <td>False</td>\n",
       "      <td>True</td>\n",
       "      <td>3</td>\n",
       "    </tr>\n",
       "    <tr>\n",
       "      <th>...</th>\n",
       "      <td>...</td>\n",
       "      <td>...</td>\n",
       "      <td>...</td>\n",
       "      <td>...</td>\n",
       "      <td>...</td>\n",
       "      <td>...</td>\n",
       "      <td>...</td>\n",
       "      <td>...</td>\n",
       "      <td>...</td>\n",
       "      <td>...</td>\n",
       "      <td>...</td>\n",
       "      <td>...</td>\n",
       "      <td>...</td>\n",
       "      <td>...</td>\n",
       "      <td>...</td>\n",
       "      <td>...</td>\n",
       "      <td>...</td>\n",
       "      <td>...</td>\n",
       "      <td>...</td>\n",
       "      <td>...</td>\n",
       "      <td>...</td>\n",
       "    </tr>\n",
       "    <tr>\n",
       "      <th>37781</th>\n",
       "      <td>WASP-19 b</td>\n",
       "      <td>WASP-19</td>\n",
       "      <td>1</td>\n",
       "      <td>1</td>\n",
       "      <td>1</td>\n",
       "      <td>0</td>\n",
       "      <td>0.788839</td>\n",
       "      <td>0.01652</td>\n",
       "      <td>15.860708</td>\n",
       "      <td>1.415000</td>\n",
       "      <td>...</td>\n",
       "      <td>506.803039</td>\n",
       "      <td>0.506803</td>\n",
       "      <td>Gaseous</td>\n",
       "      <td>False</td>\n",
       "      <td>False</td>\n",
       "      <td>False</td>\n",
       "      <td>False</td>\n",
       "      <td>True</td>\n",
       "      <td>True</td>\n",
       "      <td>2</td>\n",
       "    </tr>\n",
       "    <tr>\n",
       "      <th>37791</th>\n",
       "      <td>WASP-193 b</td>\n",
       "      <td>WASP-193</td>\n",
       "      <td>1</td>\n",
       "      <td>1</td>\n",
       "      <td>1</td>\n",
       "      <td>0</td>\n",
       "      <td>6.246334</td>\n",
       "      <td>0.06760</td>\n",
       "      <td>16.409948</td>\n",
       "      <td>1.464000</td>\n",
       "      <td>...</td>\n",
       "      <td>55.118107</td>\n",
       "      <td>0.055118</td>\n",
       "      <td>Gaseous</td>\n",
       "      <td>False</td>\n",
       "      <td>False</td>\n",
       "      <td>False</td>\n",
       "      <td>False</td>\n",
       "      <td>True</td>\n",
       "      <td>True</td>\n",
       "      <td>2</td>\n",
       "    </tr>\n",
       "    <tr>\n",
       "      <th>38369</th>\n",
       "      <td>WASP-76 b</td>\n",
       "      <td>WASP-76</td>\n",
       "      <td>0</td>\n",
       "      <td>2</td>\n",
       "      <td>1</td>\n",
       "      <td>0</td>\n",
       "      <td>1.809882</td>\n",
       "      <td>0.03304</td>\n",
       "      <td>20.680569</td>\n",
       "      <td>1.845000</td>\n",
       "      <td>...</td>\n",
       "      <td>180.283094</td>\n",
       "      <td>0.180283</td>\n",
       "      <td>Gaseous</td>\n",
       "      <td>False</td>\n",
       "      <td>False</td>\n",
       "      <td>False</td>\n",
       "      <td>False</td>\n",
       "      <td>True</td>\n",
       "      <td>True</td>\n",
       "      <td>2</td>\n",
       "    </tr>\n",
       "    <tr>\n",
       "      <th>38373</th>\n",
       "      <td>WASP-77 A b</td>\n",
       "      <td>WASP-77 A</td>\n",
       "      <td>0</td>\n",
       "      <td>2</td>\n",
       "      <td>1</td>\n",
       "      <td>0</td>\n",
       "      <td>1.360029</td>\n",
       "      <td>0.02335</td>\n",
       "      <td>13.787046</td>\n",
       "      <td>1.230000</td>\n",
       "      <td>...</td>\n",
       "      <td>1114.610134</td>\n",
       "      <td>1.114610</td>\n",
       "      <td>Gaseous</td>\n",
       "      <td>False</td>\n",
       "      <td>False</td>\n",
       "      <td>False</td>\n",
       "      <td>False</td>\n",
       "      <td>True</td>\n",
       "      <td>True</td>\n",
       "      <td>2</td>\n",
       "    </tr>\n",
       "    <tr>\n",
       "      <th>38653</th>\n",
       "      <td>XO-7 b</td>\n",
       "      <td>XO-7</td>\n",
       "      <td>1</td>\n",
       "      <td>1</td>\n",
       "      <td>1</td>\n",
       "      <td>0</td>\n",
       "      <td>2.864142</td>\n",
       "      <td>0.04421</td>\n",
       "      <td>15.389957</td>\n",
       "      <td>1.373000</td>\n",
       "      <td>...</td>\n",
       "      <td>340.829579</td>\n",
       "      <td>0.340830</td>\n",
       "      <td>Gaseous</td>\n",
       "      <td>False</td>\n",
       "      <td>False</td>\n",
       "      <td>False</td>\n",
       "      <td>False</td>\n",
       "      <td>True</td>\n",
       "      <td>True</td>\n",
       "      <td>2</td>\n",
       "    </tr>\n",
       "  </tbody>\n",
       "</table>\n",
       "<p>197 rows × 32 columns</p>\n",
       "</div>"
      ],
      "text/plain": [
       "                pl_name        hostname  default_flag  sy_snum  sy_pnum  \\\n",
       "500    EPIC 220674823 c  EPIC 220674823             1        1        2   \n",
       "512    EPIC 249893012 b  EPIC 249893012             1        1        3   \n",
       "513    EPIC 249893012 c  EPIC 249893012             1        1        3   \n",
       "514    EPIC 249893012 d  EPIC 249893012             1        1        3   \n",
       "535           GJ 1132 b         GJ 1132             1        1        2   \n",
       "...                 ...             ...           ...      ...      ...   \n",
       "37781         WASP-19 b         WASP-19             1        1        1   \n",
       "37791        WASP-193 b        WASP-193             1        1        1   \n",
       "38369         WASP-76 b         WASP-76             0        2        1   \n",
       "38373       WASP-77 A b       WASP-77 A             0        2        1   \n",
       "38653            XO-7 b            XO-7             1        1        1   \n",
       "\n",
       "       pl_controv_flag  pl_orbper  pl_orbsmax    pl_rade   pl_radj  ...  \\\n",
       "500                  0  13.339890     0.10730   2.840000  0.253368  ...   \n",
       "512                  0   3.595100     0.04700   1.950000  0.173967  ...   \n",
       "513                  0  15.624000     0.13000   3.670000  0.327415  ...   \n",
       "514                  0  35.747000     0.22000   3.940000  0.351503  ...   \n",
       "535                  0   1.628929     0.01570   1.191515  0.106300  ...   \n",
       "...                ...        ...         ...        ...       ...  ...   \n",
       "37781                0   0.788839     0.01652  15.860708  1.415000  ...   \n",
       "37791                0   6.246334     0.06760  16.409948  1.464000  ...   \n",
       "38369                0   1.809882     0.03304  20.680569  1.845000  ...   \n",
       "38373                0   1.360029     0.02335  13.787046  1.230000  ...   \n",
       "38653                0   2.864142     0.04421  15.389957  1.373000  ...   \n",
       "\n",
       "       density_kg_m3  density_g_cm3  planet_type  f_radius  f_mass  \\\n",
       "500      1761.831763       1.761832      Gaseous     False   False   \n",
       "512      6505.978046       6.505978  Terrestrial     False   False   \n",
       "513      1636.214721       1.636215      Gaseous     False   False   \n",
       "514       917.629754       0.917630      Gaseous     False   False   \n",
       "535      5987.296479       5.987296  Terrestrial      True    True   \n",
       "...              ...            ...          ...       ...     ...   \n",
       "37781     506.803039       0.506803      Gaseous     False   False   \n",
       "37791      55.118107       0.055118      Gaseous     False   False   \n",
       "38369     180.283094       0.180283      Gaseous     False   False   \n",
       "38373    1114.610134       1.114610      Gaseous     False   False   \n",
       "38653     340.829579       0.340830      Gaseous     False   False   \n",
       "\n",
       "       f_insolation  f_eq_temp  f_star_teff  f_eccentric  \\\n",
       "500           False      False         True         True   \n",
       "512           False      False         True         True   \n",
       "513           False      False         True         True   \n",
       "514           False      False         True         True   \n",
       "535           False      False        False         True   \n",
       "...             ...        ...          ...          ...   \n",
       "37781         False      False         True         True   \n",
       "37791         False      False         True         True   \n",
       "38369         False      False         True         True   \n",
       "38373         False      False         True         True   \n",
       "38653         False      False         True         True   \n",
       "\n",
       "      Potential Habitability  \n",
       "500                        2  \n",
       "512                        2  \n",
       "513                        2  \n",
       "514                        2  \n",
       "535                        3  \n",
       "...                      ...  \n",
       "37781                      2  \n",
       "37791                      2  \n",
       "38369                      2  \n",
       "38373                      2  \n",
       "38653                      2  \n",
       "\n",
       "[197 rows x 32 columns]"
      ]
     },
     "execution_count": 147,
     "metadata": {},
     "output_type": "execute_result"
    }
   ],
   "source": [
    "df_cleaned"
   ]
  },
  {
   "cell_type": "code",
   "execution_count": null,
   "id": "fcd50e6c",
   "metadata": {},
   "outputs": [
    {
     "data": {
      "text/plain": [
       "<Axes: xlabel='pl_rade', ylabel='Count'>"
      ]
     },
     "execution_count": 148,
     "metadata": {},
     "output_type": "execute_result"
    },
    {
     "data": {
      "image/png": "[encoded data removed]",
      "text/plain": [
       "<Figure size 640x480 with 1 Axes>"
      ]
     },
     "metadata": {},
     "output_type": "display_data"
    }
   ],
   "source": [
    "sns.histplot(data=df_cleaned,x=\"pl_rade\",hue=\"f_radius\")"
   ]
  },
  {
   "cell_type": "code",
   "execution_count": null,
   "id": "fb12e69a",
   "metadata": {},
   "outputs": [
    {
     "data": {
      "text/plain": [
       "<Axes: xlabel='pl_bmasse', ylabel='Count'>"
      ]
     },
     "execution_count": 149,
     "metadata": {},
     "output_type": "execute_result"
    },
    {
     "data": {
      "image/png": "[encoded data removed]",
      "text/plain": [
       "<Figure size 640x480 with 1 Axes>"
      ]
     },
     "metadata": {},
     "output_type": "display_data"
    }
   ],
   "source": [
    "sns.histplot(data=df_cleaned,x=\"pl_bmasse\",hue=\"f_mass\")"
   ]
  },
  {
   "cell_type": "code",
   "execution_count": null,
   "id": "0f8e9fd6",
   "metadata": {},
   "outputs": [
    {
     "data": {
      "text/plain": [
       "<Axes: xlabel='pl_insol', ylabel='Count'>"
      ]
     },
     "execution_count": 150,
     "metadata": {},
     "output_type": "execute_result"
    },
    {
     "data": {
      "image/png": "[encoded data removed]",
      "text/plain": [
       "<Figure size 640x480 with 1 Axes>"
      ]
     },
     "metadata": {},
     "output_type": "display_data"
    }
   ],
   "source": [
    "sns.histplot(data=df_cleaned,x=\"pl_insol\",hue=\"f_insolation\")"
   ]
  },
  {
   "cell_type": "code",
   "execution_count": null,
   "id": "b4ef4175",
   "metadata": {},
   "outputs": [
    {
     "data": {
      "text/plain": [
       "<Axes: xlabel='pl_eqt', ylabel='Count'>"
      ]
     },
     "execution_count": 151,
     "metadata": {},
     "output_type": "execute_result"
    },
    {
     "data": {
      "image/png": "[encoded data removed]",
      "text/plain": [
       "<Figure size 640x480 with 1 Axes>"
      ]
     },
     "metadata": {},
     "output_type": "display_data"
    }
   ],
   "source": [
    "sns.histplot(data=df_cleaned,x=\"pl_eqt\",hue=\"f_eq_temp\")"
   ]
  },
  {
   "cell_type": "code",
   "execution_count": null,
   "id": "fde93206",
   "metadata": {},
   "outputs": [
    {
     "data": {
      "text/plain": [
       "<Axes: xlabel='st_teff', ylabel='Count'>"
      ]
     },
     "execution_count": 152,
     "metadata": {},
     "output_type": "execute_result"
    },
    {
     "data": {
      "image/png": "[encoded data removed]",
      "text/plain": [
       "<Figure size 640x480 with 1 Axes>"
      ]
     },
     "metadata": {},
     "output_type": "display_data"
    }
   ],
   "source": [
    "sns.histplot(data=df_cleaned,x=\"st_teff\",hue=\"f_star_teff\")"
   ]
  },
  {
   "cell_type": "code",
   "execution_count": null,
   "id": "a4d2cdfe",
   "metadata": {},
   "outputs": [
    {
     "data": {
      "text/html": [
       "<div>\n",
       "<style scoped>\n",
       "    .dataframe tbody tr th:only-of-type {\n",
       "        vertical-align: middle;\n",
       "    }\n",
       "\n",
       "    .dataframe tbody tr th {\n",
       "        vertical-align: top;\n",
       "    }\n",
       "\n",
       "    .dataframe thead th {\n",
       "        text-align: right;\n",
       "    }\n",
       "</style>\n",
       "<table border=\"1\" class=\"dataframe\">\n",
       "  <thead>\n",
       "    <tr style=\"text-align: right;\">\n",
       "      <th></th>\n",
       "      <th>pl_name</th>\n",
       "      <th>hostname</th>\n",
       "      <th>default_flag</th>\n",
       "      <th>sy_snum</th>\n",
       "      <th>sy_pnum</th>\n",
       "      <th>pl_controv_flag</th>\n",
       "      <th>pl_orbper</th>\n",
       "      <th>pl_orbsmax</th>\n",
       "      <th>pl_rade</th>\n",
       "      <th>pl_radj</th>\n",
       "      <th>...</th>\n",
       "      <th>density_kg_m3</th>\n",
       "      <th>density_g_cm3</th>\n",
       "      <th>planet_type</th>\n",
       "      <th>f_radius</th>\n",
       "      <th>f_mass</th>\n",
       "      <th>f_insolation</th>\n",
       "      <th>f_eq_temp</th>\n",
       "      <th>f_star_teff</th>\n",
       "      <th>f_eccentric</th>\n",
       "      <th>Potential Habitability</th>\n",
       "    </tr>\n",
       "  </thead>\n",
       "  <tbody>\n",
       "    <tr>\n",
       "      <th>500</th>\n",
       "      <td>EPIC 220674823 c</td>\n",
       "      <td>EPIC 220674823</td>\n",
       "      <td>1</td>\n",
       "      <td>1</td>\n",
       "      <td>2</td>\n",
       "      <td>0</td>\n",
       "      <td>13.339890</td>\n",
       "      <td>0.1073</td>\n",
       "      <td>2.840000</td>\n",
       "      <td>0.253368</td>\n",
       "      <td>...</td>\n",
       "      <td>1761.831763</td>\n",
       "      <td>1.761832</td>\n",
       "      <td>Gaseous</td>\n",
       "      <td>False</td>\n",
       "      <td>False</td>\n",
       "      <td>False</td>\n",
       "      <td>False</td>\n",
       "      <td>True</td>\n",
       "      <td>True</td>\n",
       "      <td>2</td>\n",
       "    </tr>\n",
       "    <tr>\n",
       "      <th>512</th>\n",
       "      <td>EPIC 249893012 b</td>\n",
       "      <td>EPIC 249893012</td>\n",
       "      <td>1</td>\n",
       "      <td>1</td>\n",
       "      <td>3</td>\n",
       "      <td>0</td>\n",
       "      <td>3.595100</td>\n",
       "      <td>0.0470</td>\n",
       "      <td>1.950000</td>\n",
       "      <td>0.173967</td>\n",
       "      <td>...</td>\n",
       "      <td>6505.978046</td>\n",
       "      <td>6.505978</td>\n",
       "      <td>Terrestrial</td>\n",
       "      <td>False</td>\n",
       "      <td>False</td>\n",
       "      <td>False</td>\n",
       "      <td>False</td>\n",
       "      <td>True</td>\n",
       "      <td>True</td>\n",
       "      <td>2</td>\n",
       "    </tr>\n",
       "    <tr>\n",
       "      <th>513</th>\n",
       "      <td>EPIC 249893012 c</td>\n",
       "      <td>EPIC 249893012</td>\n",
       "      <td>1</td>\n",
       "      <td>1</td>\n",
       "      <td>3</td>\n",
       "      <td>0</td>\n",
       "      <td>15.624000</td>\n",
       "      <td>0.1300</td>\n",
       "      <td>3.670000</td>\n",
       "      <td>0.327415</td>\n",
       "      <td>...</td>\n",
       "      <td>1636.214721</td>\n",
       "      <td>1.636215</td>\n",
       "      <td>Gaseous</td>\n",
       "      <td>False</td>\n",
       "      <td>False</td>\n",
       "      <td>False</td>\n",
       "      <td>False</td>\n",
       "      <td>True</td>\n",
       "      <td>True</td>\n",
       "      <td>2</td>\n",
       "    </tr>\n",
       "    <tr>\n",
       "      <th>514</th>\n",
       "      <td>EPIC 249893012 d</td>\n",
       "      <td>EPIC 249893012</td>\n",
       "      <td>1</td>\n",
       "      <td>1</td>\n",
       "      <td>3</td>\n",
       "      <td>0</td>\n",
       "      <td>35.747000</td>\n",
       "      <td>0.2200</td>\n",
       "      <td>3.940000</td>\n",
       "      <td>0.351503</td>\n",
       "      <td>...</td>\n",
       "      <td>917.629754</td>\n",
       "      <td>0.917630</td>\n",
       "      <td>Gaseous</td>\n",
       "      <td>False</td>\n",
       "      <td>False</td>\n",
       "      <td>False</td>\n",
       "      <td>False</td>\n",
       "      <td>True</td>\n",
       "      <td>True</td>\n",
       "      <td>2</td>\n",
       "    </tr>\n",
       "    <tr>\n",
       "      <th>535</th>\n",
       "      <td>GJ 1132 b</td>\n",
       "      <td>GJ 1132</td>\n",
       "      <td>1</td>\n",
       "      <td>1</td>\n",
       "      <td>2</td>\n",
       "      <td>0</td>\n",
       "      <td>1.628929</td>\n",
       "      <td>0.0157</td>\n",
       "      <td>1.191515</td>\n",
       "      <td>0.106300</td>\n",
       "      <td>...</td>\n",
       "      <td>5987.296479</td>\n",
       "      <td>5.987296</td>\n",
       "      <td>Terrestrial</td>\n",
       "      <td>True</td>\n",
       "      <td>True</td>\n",
       "      <td>False</td>\n",
       "      <td>False</td>\n",
       "      <td>False</td>\n",
       "      <td>True</td>\n",
       "      <td>3</td>\n",
       "    </tr>\n",
       "  </tbody>\n",
       "</table>\n",
       "<p>5 rows × 32 columns</p>\n",
       "</div>"
      ],
      "text/plain": [
       "              pl_name        hostname  default_flag  sy_snum  sy_pnum  \\\n",
       "500  EPIC 220674823 c  EPIC 220674823             1        1        2   \n",
       "512  EPIC 249893012 b  EPIC 249893012             1        1        3   \n",
       "513  EPIC 249893012 c  EPIC 249893012             1        1        3   \n",
       "514  EPIC 249893012 d  EPIC 249893012             1        1        3   \n",
       "535         GJ 1132 b         GJ 1132             1        1        2   \n",
       "\n",
       "     pl_controv_flag  pl_orbper  pl_orbsmax   pl_rade   pl_radj  ...  \\\n",
       "500                0  13.339890      0.1073  2.840000  0.253368  ...   \n",
       "512                0   3.595100      0.0470  1.950000  0.173967  ...   \n",
       "513                0  15.624000      0.1300  3.670000  0.327415  ...   \n",
       "514                0  35.747000      0.2200  3.940000  0.351503  ...   \n",
       "535                0   1.628929      0.0157  1.191515  0.106300  ...   \n",
       "\n",
       "     density_kg_m3  density_g_cm3  planet_type  f_radius  f_mass  \\\n",
       "500    1761.831763       1.761832      Gaseous     False   False   \n",
       "512    6505.978046       6.505978  Terrestrial     False   False   \n",
       "513    1636.214721       1.636215      Gaseous     False   False   \n",
       "514     917.629754       0.917630      Gaseous     False   False   \n",
       "535    5987.296479       5.987296  Terrestrial      True    True   \n",
       "\n",
       "     f_insolation  f_eq_temp  f_star_teff  f_eccentric Potential Habitability  \n",
       "500         False      False         True         True                      2  \n",
       "512         False      False         True         True                      2  \n",
       "513         False      False         True         True                      2  \n",
       "514         False      False         True         True                      2  \n",
       "535         False      False        False         True                      3  \n",
       "\n",
       "[5 rows x 32 columns]"
      ]
     },
     "execution_count": 153,
     "metadata": {},
     "output_type": "execute_result"
    }
   ],
   "source": [
    "df_cleaned.head()"
   ]
  },
  {
   "cell_type": "code",
   "execution_count": null,
   "id": "4f16e1a0",
   "metadata": {},
   "outputs": [
    {
     "data": {
      "text/plain": [
       "<Axes: xlabel='pl_orbeccen', ylabel='Count'>"
      ]
     },
     "execution_count": 154,
     "metadata": {},
     "output_type": "execute_result"
    },
    {
     "data": {
      "image/png": "[encoded data removed]",
      "text/plain": [
       "<Figure size 640x480 with 1 Axes>"
      ]
     },
     "metadata": {},
     "output_type": "display_data"
    }
   ],
   "source": [
    "sns.histplot(data=df_cleaned,x=\"pl_orbeccen\",hue=\"f_eccentric\")"
   ]
  },
  {
   "cell_type": "code",
   "execution_count": null,
   "id": "04e1b557",
   "metadata": {},
   "outputs": [
    {
     "data": {
      "text/html": [
       "<div>\n",
       "<style scoped>\n",
       "    .dataframe tbody tr th:only-of-type {\n",
       "        vertical-align: middle;\n",
       "    }\n",
       "\n",
       "    .dataframe tbody tr th {\n",
       "        vertical-align: top;\n",
       "    }\n",
       "\n",
       "    .dataframe thead th {\n",
       "        text-align: right;\n",
       "    }\n",
       "</style>\n",
       "<table border=\"1\" class=\"dataframe\">\n",
       "  <thead>\n",
       "    <tr style=\"text-align: right;\">\n",
       "      <th></th>\n",
       "      <th>pl_name</th>\n",
       "      <th>hostname</th>\n",
       "      <th>default_flag</th>\n",
       "      <th>sy_snum</th>\n",
       "      <th>sy_pnum</th>\n",
       "      <th>pl_controv_flag</th>\n",
       "      <th>pl_orbper</th>\n",
       "      <th>pl_orbsmax</th>\n",
       "      <th>pl_rade</th>\n",
       "      <th>pl_radj</th>\n",
       "      <th>...</th>\n",
       "      <th>density_kg_m3</th>\n",
       "      <th>density_g_cm3</th>\n",
       "      <th>planet_type</th>\n",
       "      <th>f_radius</th>\n",
       "      <th>f_mass</th>\n",
       "      <th>f_insolation</th>\n",
       "      <th>f_eq_temp</th>\n",
       "      <th>f_star_teff</th>\n",
       "      <th>f_eccentric</th>\n",
       "      <th>Potential Habitability</th>\n",
       "    </tr>\n",
       "  </thead>\n",
       "  <tbody>\n",
       "    <tr>\n",
       "      <th>500</th>\n",
       "      <td>EPIC 220674823 c</td>\n",
       "      <td>EPIC 220674823</td>\n",
       "      <td>1</td>\n",
       "      <td>1</td>\n",
       "      <td>2</td>\n",
       "      <td>0</td>\n",
       "      <td>13.33989</td>\n",
       "      <td>0.1073</td>\n",
       "      <td>2.84</td>\n",
       "      <td>0.253368</td>\n",
       "      <td>...</td>\n",
       "      <td>1761.831763</td>\n",
       "      <td>1.761832</td>\n",
       "      <td>Gaseous</td>\n",
       "      <td>False</td>\n",
       "      <td>False</td>\n",
       "      <td>False</td>\n",
       "      <td>False</td>\n",
       "      <td>True</td>\n",
       "      <td>True</td>\n",
       "      <td>2</td>\n",
       "    </tr>\n",
       "  </tbody>\n",
       "</table>\n",
       "<p>1 rows × 32 columns</p>\n",
       "</div>"
      ],
      "text/plain": [
       "              pl_name        hostname  default_flag  sy_snum  sy_pnum  \\\n",
       "500  EPIC 220674823 c  EPIC 220674823             1        1        2   \n",
       "\n",
       "     pl_controv_flag  pl_orbper  pl_orbsmax  pl_rade   pl_radj  ...  \\\n",
       "500                0   13.33989      0.1073     2.84  0.253368  ...   \n",
       "\n",
       "     density_kg_m3  density_g_cm3  planet_type  f_radius  f_mass  \\\n",
       "500    1761.831763       1.761832      Gaseous     False   False   \n",
       "\n",
       "     f_insolation  f_eq_temp  f_star_teff  f_eccentric Potential Habitability  \n",
       "500         False      False         True         True                      2  \n",
       "\n",
       "[1 rows x 32 columns]"
      ]
     },
     "execution_count": 94,
     "metadata": {},
     "output_type": "execute_result"
    }
   ],
   "source": [
    "df_cleaned.head(1)"
   ]
  },
  {
   "cell_type": "code",
   "execution_count": null,
   "id": "516fa884",
   "metadata": {},
   "outputs": [],
   "source": []
  },
  {
   "cell_type": "code",
   "execution_count": null,
   "id": "59325142",
   "metadata": {},
   "outputs": [
    {
     "name": "stdout",
     "output_type": "stream",
     "text": [
      "GJ 367 b\n",
      "HD 136352 b\n",
      "HD 219134 c\n",
      "HD 23472 d\n",
      "HD 23472 e\n",
      "HD 23472 f\n",
      "HD 260655 b\n",
      "HD 260655 c\n",
      "K2-266 c\n",
      "K2-3 c\n",
      "Kepler-138 c\n",
      "Kepler-138 d\n",
      "TOI-1266 c\n",
      "TOI-500 b\n"
     ]
    }
   ],
   "source": [
    "for idx, row in df_cleaned.iterrows():\n",
    "    if row[\"Potential Habitability\"] >= 4:\n",
    "        print(row[\"pl_name\"])"
   ]
  },
  {
   "cell_type": "code",
   "execution_count": null,
   "id": "c6490535",
   "metadata": {},
   "outputs": [],
   "source": [
    "\n",
    "from sklearn.preprocessing import StandardScaler\n",
    "\n",
    "\n",
    "# --- 1) Set up columns and Earth reference (matching your labels) ---\n",
    "cols = [\"pl_rade\",\"pl_bmasse\",\"pl_insol\",\"pl_eqt\",\"st_teff\",\"pl_orbeccen\"]\n",
    "earth = {\n",
    "    \"pl_rade\": 1.0,          # Earth radii\n",
    "    \"pl_bmasse\": 1.0,        # Earth masses\n",
    "    \"pl_insol\": 1.0,         # Earth = 1 S_earth\n",
    "    \"pl_eqt\": 255.0,         # K (equilibrium temp)\n",
    "    \"st_teff\": 5772.0,       # K (Sun)\n",
    "    \"pl_orbeccen\": 0.0167,   # Earth's orbital eccentricity\n",
    "}\n",
    "\n",
    "# --- 2) Build matrix X and fit scaler on rows that have all six values ---\n",
    "mask = df_cleaned[cols].notna().all(axis=1)\n",
    "X = df_cleaned.loc[mask, cols].astype(float).values\n",
    "\n",
    "scaler = StandardScaler().fit(X)\n",
    "Xz = scaler.transform(X)\n",
    "\n",
    "# Earth vector standardized with the SAME scaler (so they’re comparable)\n",
    "earth_vec = np.array([[earth[c] for c in cols]])\n",
    "earth_z = scaler.transform(earth_vec)[0]\n",
    "\n",
    "# --- 3) Distance to Earth in z-score space (Euclidean) ---\n",
    "dist = np.sqrt(((Xz - earth_z)**2).sum(axis=1))\n",
    "\n",
    "# Put distances back into the dataframe (NaN where features were missing)\n",
    "df_cleaned[\"dist_earth_z\"] = dist\n"
   ]
  },
  {
   "cell_type": "code",
   "execution_count": null,
   "id": "72601ab0",
   "metadata": {},
   "outputs": [
    {
     "data": {
      "text/html": [
       "<div>\n",
       "<style scoped>\n",
       "    .dataframe tbody tr th:only-of-type {\n",
       "        vertical-align: middle;\n",
       "    }\n",
       "\n",
       "    .dataframe tbody tr th {\n",
       "        vertical-align: top;\n",
       "    }\n",
       "\n",
       "    .dataframe thead th {\n",
       "        text-align: right;\n",
       "    }\n",
       "</style>\n",
       "<table border=\"1\" class=\"dataframe\">\n",
       "  <thead>\n",
       "    <tr style=\"text-align: right;\">\n",
       "      <th></th>\n",
       "      <th>pl_name</th>\n",
       "      <th>dist_earth_z</th>\n",
       "    </tr>\n",
       "  </thead>\n",
       "  <tbody>\n",
       "    <tr>\n",
       "      <th>3045</th>\n",
       "      <td>HD 23472 f</td>\n",
       "      <td>1.359183</td>\n",
       "    </tr>\n",
       "    <tr>\n",
       "      <th>2190</th>\n",
       "      <td>HD 136352 b</td>\n",
       "      <td>1.425128</td>\n",
       "    </tr>\n",
       "    <tr>\n",
       "      <th>3043</th>\n",
       "      <td>HD 23472 e</td>\n",
       "      <td>1.475983</td>\n",
       "    </tr>\n",
       "    <tr>\n",
       "      <th>2952</th>\n",
       "      <td>HD 219134 c</td>\n",
       "      <td>1.538059</td>\n",
       "    </tr>\n",
       "    <tr>\n",
       "      <th>4922</th>\n",
       "      <td>K2-266 c</td>\n",
       "      <td>1.679657</td>\n",
       "    </tr>\n",
       "    <tr>\n",
       "      <th>3041</th>\n",
       "      <td>HD 23472 d</td>\n",
       "      <td>1.752590</td>\n",
       "    </tr>\n",
       "    <tr>\n",
       "      <th>12164</th>\n",
       "      <td>Kepler-138 d</td>\n",
       "      <td>1.886048</td>\n",
       "    </tr>\n",
       "    <tr>\n",
       "      <th>5125</th>\n",
       "      <td>K2-3 c</td>\n",
       "      <td>1.902421</td>\n",
       "    </tr>\n",
       "    <tr>\n",
       "      <th>12139</th>\n",
       "      <td>Kepler-138 c</td>\n",
       "      <td>1.903069</td>\n",
       "    </tr>\n",
       "    <tr>\n",
       "      <th>3085</th>\n",
       "      <td>HD 260655 c</td>\n",
       "      <td>2.016546</td>\n",
       "    </tr>\n",
       "    <tr>\n",
       "      <th>35823</th>\n",
       "      <td>TOI-1266 c</td>\n",
       "      <td>2.124729</td>\n",
       "    </tr>\n",
       "    <tr>\n",
       "      <th>3084</th>\n",
       "      <td>HD 260655 b</td>\n",
       "      <td>2.131580</td>\n",
       "    </tr>\n",
       "    <tr>\n",
       "      <th>662</th>\n",
       "      <td>GJ 367 b</td>\n",
       "      <td>3.248510</td>\n",
       "    </tr>\n",
       "    <tr>\n",
       "      <th>36726</th>\n",
       "      <td>TOI-500 b</td>\n",
       "      <td>3.404956</td>\n",
       "    </tr>\n",
       "  </tbody>\n",
       "</table>\n",
       "</div>"
      ],
      "text/plain": [
       "            pl_name  dist_earth_z\n",
       "3045     HD 23472 f      1.359183\n",
       "2190    HD 136352 b      1.425128\n",
       "3043     HD 23472 e      1.475983\n",
       "2952    HD 219134 c      1.538059\n",
       "4922       K2-266 c      1.679657\n",
       "3041     HD 23472 d      1.752590\n",
       "12164  Kepler-138 d      1.886048\n",
       "5125         K2-3 c      1.902421\n",
       "12139  Kepler-138 c      1.903069\n",
       "3085    HD 260655 c      2.016546\n",
       "35823    TOI-1266 c      2.124729\n",
       "3084    HD 260655 b      2.131580\n",
       "662        GJ 367 b      3.248510\n",
       "36726     TOI-500 b      3.404956"
      ]
     },
     "execution_count": 178,
     "metadata": {},
     "output_type": "execute_result"
    }
   ],
   "source": [
    "this_planets=df_cleaned[df_cleaned[\"Potential Habitability\"] ==4].sort_values(\"dist_earth_z\")\n",
    "this_planets = this_planets[[\"pl_name\", \"dist_earth_z\"]]\n",
    "this_planets\n"
   ]
  },
  {
   "cell_type": "code",
   "execution_count": 182,
   "id": "fc58b10e",
   "metadata": {},
   "outputs": [
    {
     "data": {
      "text/plain": [
       "Index(['pl_name', 'hostname', 'default_flag', 'sy_snum', 'sy_pnum',\n",
       "       'pl_controv_flag', 'pl_orbper', 'pl_orbsmax', 'pl_rade', 'pl_radj',\n",
       "       'pl_bmasse', 'pl_bmassj', 'pl_orbeccen', 'pl_insol', 'pl_eqt',\n",
       "       'st_teff', 'st_rad', 'st_mass', 'st_met', 'st_metratio', 'st_logg',\n",
       "       'sy_dist', 'density_kg_m3', 'density_g_cm3', 'planet_type', 'f_radius',\n",
       "       'f_mass', 'f_insolation', 'f_eq_temp', 'f_star_teff', 'f_eccentric',\n",
       "       'Potential Habitability', 'dist_earth_z'],\n",
       "      dtype='object')"
      ]
     },
     "execution_count": 182,
     "metadata": {},
     "output_type": "execute_result"
    }
   ],
   "source": [
    "df_cleaned.columns\n"
   ]
  },
  {
   "cell_type": "code",
   "execution_count": 194,
   "id": "ae67b6b4",
   "metadata": {},
   "outputs": [
    {
     "data": {
      "text/plain": [
       "<Axes: xlabel='pl_orbeccen', ylabel='pl_orbsmax'>"
      ]
     },
     "execution_count": 194,
     "metadata": {},
     "output_type": "execute_result"
    },
    {
     "data": {
      "image/png": "[encoded data removed]",
      "text/plain": [
       "<Figure size 640x480 with 1 Axes>"
      ]
     },
     "metadata": {},
     "output_type": "display_data"
    }
   ],
   "source": [
    "sns.residplot(data=df_cleaned,x=\"pl_orbeccen\",y='pl_orbsmax')"
   ]
  },
  {
   "cell_type": "code",
   "execution_count": null,
   "id": "ebee9abc",
   "metadata": {},
   "outputs": [
    {
     "name": "stdout",
     "output_type": "stream",
     "text": [
      "Accuracy on test set: 1.0\n",
      "\n",
      "Classification report:\n",
      "               precision    recall  f1-score   support\n",
      "\n",
      "           0       1.00      1.00      1.00        46\n",
      "           1       1.00      1.00      1.00         4\n",
      "\n",
      "    accuracy                           1.00        50\n",
      "   macro avg       1.00      1.00      1.00        50\n",
      "weighted avg       1.00      1.00      1.00        50\n",
      "\n"
     ]
    },
    {
     "data": {
      "image/png": "[encoded data removed]",
      "text/plain": [
       "<Figure size 1000x600 with 1 Axes>"
      ]
     },
     "metadata": {},
     "output_type": "display_data"
    },
    {
     "name": "stdout",
     "output_type": "stream",
     "text": [
      "\n",
      "Feature importances:\n",
      " f_radius        8.513514e-01\n",
      "f_star_teff     1.198717e-01\n",
      "f_mass          2.877698e-02\n",
      "f_eq_temp       9.291837e-15\n",
      "f_insolation    0.000000e+00\n",
      "f_eccentric     0.000000e+00\n",
      "dtype: float64\n"
     ]
    }
   ],
   "source": [
    "import pandas as pd\n",
    "from sklearn.model_selection import train_test_split\n",
    "from sklearn.tree import DecisionTreeClassifier, plot_tree\n",
    "from sklearn.metrics import classification_report\n",
    "import matplotlib.pyplot as plt\n",
    "# Code developed with assistance from ChatGPT (GPT-5), OpenAI, conversation on 21 Sept 2025.\n",
    "# URL: https://chat.openai.com/\n",
    "\n",
    "\n",
    "# --- 1. Feature set and target -----------------------------------------------\n",
    "features = [\"f_radius\", \"f_mass\", \"f_insolation\",\n",
    "            \"f_eq_temp\", \"f_star_teff\", \"f_eccentric\"]\n",
    "\n",
    "X = df_cleaned[features]\n",
    "\n",
    "# Example target: Potential Habitability score >= 4 (binary)\n",
    "y = (df_cleaned[\"Potential Habitability\"] >= 4).astype(int)\n",
    "\n",
    "# --- 2. Split data -----------------------------------------------------------\n",
    "X_train, X_test, y_train, y_test = train_test_split(\n",
    "    X, y, test_size=0.25, random_state=42, stratify=y\n",
    ")\n",
    "\n",
    "# --- 3. Fit decision tree ----------------------------------------------------\n",
    "clf = DecisionTreeClassifier(\n",
    "    criterion=\"gini\",\n",
    "    max_depth=3,           # limit depth to avoid overfitting\n",
    "    class_weight=\"balanced\",\n",
    "    random_state=42\n",
    ")\n",
    "clf.fit(X_train, y_train)\n",
    "\n",
    "# --- 4. Evaluate -------------------------------------------------------------\n",
    "print(\"Accuracy on test set:\", clf.score(X_test, y_test))\n",
    "print(\"\\nClassification report:\\n\", classification_report(y_test, clf.predict(X_test)))\n",
    "\n",
    "# --- 5. Visualize the tree ---------------------------------------------------\n",
    "plt.figure(figsize=(10, 6))\n",
    "plot_tree(clf,\n",
    "          feature_names=features,\n",
    "          class_names=[\"Not Habitable\", \"Habitable\"],\n",
    "          filled=True, rounded=True)\n",
    "plt.tight_layout()\n",
    "plt.show()\n",
    "\n",
    "# --- 6. Feature importances --------------------------------------------------\n",
    "importances = pd.Series(clf.feature_importances_, index=features).sort_values(ascending=False)\n",
    "print(\"\\nFeature importances:\\n\", importances)"
   ]
  },
  {
   "cell_type": "code",
   "execution_count": null,
   "id": "bd1b2217",
   "metadata": {},
   "outputs": [
    {
     "data": {
      "image/png": "[encoded data removed]",
      "text/plain": [
       "<Figure size 640x480 with 1 Axes>"
      ]
     },
     "metadata": {},
     "output_type": "display_data"
    }
   ],
   "source": [
    "\n",
    "sns.regplot(data=df_cleaned,x=\"pl_orbeccen\",y='pl_orbsmax')\n",
    "plt.show()"
   ]
  },
  {
   "cell_type": "code",
   "execution_count": 188,
   "id": "8e9606b3",
   "metadata": {},
   "outputs": [
    {
     "data": {
      "text/plain": [
       "<Axes: xlabel='pl_bmasse', ylabel='density_g_cm3'>"
      ]
     },
     "execution_count": 188,
     "metadata": {},
     "output_type": "execute_result"
    },
    {
     "data": {
      "image/png": "[encoded data removed]",
      "text/plain": [
       "<Figure size 500x500 with 1 Axes>"
      ]
     },
     "metadata": {},
     "output_type": "display_data"
    }
   ],
   "source": [
    "fig, ax = plt.subplots(1, figsize=(5,5))\n",
    "sns.scatterplot(data=df_cleaned,x=\"pl_bmasse\",y='density_g_cm3',ax=ax)\n"
   ]
  }
 ],
 "metadata": {
  "kernelspec": {
   "display_name": "Python 3",
   "language": "python",
   "name": "python3"
  },
  "language_info": {
   "codemirror_mode": {
    "name": "ipython",
    "version": 3
   },
   "file_extension": ".py",
   "mimetype": "text/x-python",
   "name": "python",
   "nbconvert_exporter": "python",
   "pygments_lexer": "ipython3",
   "version": "3.13.7"
  }
 },
 "nbformat": 4,
 "nbformat_minor": 5
}
